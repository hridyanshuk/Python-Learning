{
 "cells": [
  {
   "cell_type": "markdown",
   "id": "e07792fb",
   "metadata": {},
   "source": [
    "---\n",
    "# Numpy\n",
    "---\n",
    "\n",
    "### Loading module"
   ]
  },
  {
   "cell_type": "code",
   "execution_count": 1,
   "id": "90438456",
   "metadata": {},
   "outputs": [],
   "source": [
    "import numpy as np"
   ]
  },
  {
   "cell_type": "markdown",
   "id": "298f5f21",
   "metadata": {},
   "source": [
    "---\n",
    "### Basic\n",
    "---\n",
    "<b>Creating</b>"
   ]
  },
  {
   "cell_type": "code",
   "execution_count": 2,
   "id": "d48ce839",
   "metadata": {},
   "outputs": [
    {
     "name": "stdout",
     "output_type": "stream",
     "text": [
      "Single Dimensional:\n",
      "[1 2 3 4 5]\n",
      "\n",
      "Double Dimensional\n",
      "[[1 2 3 4 5]\n",
      " [6 7 8 9 0]]\n"
     ]
    }
   ],
   "source": [
    "arr=np.array([1,2,3,4,5])\n",
    "arrDD=np.array([[1,2,3,4,5],[6,7,8,9,0]])\n",
    "print(\"Single Dimensional:\")\n",
    "print(arr)\n",
    "print(\"\\nDouble Dimensional\")\n",
    "print(arrDD)"
   ]
  },
  {
   "cell_type": "markdown",
   "id": "0dc7c9b2",
   "metadata": {},
   "source": [
    "<b>Dimension</b>"
   ]
  },
  {
   "cell_type": "code",
   "execution_count": 3,
   "id": "1972ff9a",
   "metadata": {},
   "outputs": [
    {
     "name": "stdout",
     "output_type": "stream",
     "text": [
      "1\n",
      "2\n"
     ]
    }
   ],
   "source": [
    "print(arr.ndim)\n",
    "print(arrDD.ndim)"
   ]
  },
  {
   "cell_type": "markdown",
   "id": "d7c9b24f",
   "metadata": {},
   "source": [
    "<b>Shape</b>"
   ]
  },
  {
   "cell_type": "code",
   "execution_count": 4,
   "id": "ae001093",
   "metadata": {},
   "outputs": [
    {
     "name": "stdout",
     "output_type": "stream",
     "text": [
      "(5,)\n",
      "(2, 5)\n"
     ]
    }
   ],
   "source": [
    "print(arr.shape)\n",
    "print(arrDD.shape)"
   ]
  },
  {
   "cell_type": "markdown",
   "id": "f71217d6",
   "metadata": {},
   "source": [
    "<b>Datatype</b>"
   ]
  },
  {
   "cell_type": "code",
   "execution_count": 7,
   "id": "44495a22",
   "metadata": {},
   "outputs": [
    {
     "name": "stdout",
     "output_type": "stream",
     "text": [
      "int32\n",
      "int32\n"
     ]
    }
   ],
   "source": [
    "print(arr.dtype)\n",
    "print(arrDD.dtype)"
   ]
  },
  {
   "cell_type": "markdown",
   "id": "cf875c29",
   "metadata": {},
   "source": [
    "<b>Specifying a datatype during initialising</b>"
   ]
  },
  {
   "cell_type": "code",
   "execution_count": 8,
   "id": "8884407f",
   "metadata": {},
   "outputs": [
    {
     "name": "stdout",
     "output_type": "stream",
     "text": [
      "int16\n",
      "[1 2 3 4 5]\n"
     ]
    }
   ],
   "source": [
    "b=np.array([1,2,3,4,5], dtype='int16')\n",
    "print(b.dtype)\n",
    "print(b)"
   ]
  },
  {
   "cell_type": "markdown",
   "id": "6b63dadc",
   "metadata": {},
   "source": [
    "<b>Item size</b>"
   ]
  },
  {
   "cell_type": "code",
   "execution_count": 10,
   "id": "0b342523",
   "metadata": {},
   "outputs": [
    {
     "name": "stdout",
     "output_type": "stream",
     "text": [
      "4\n",
      "2\n"
     ]
    }
   ],
   "source": [
    "print(arr.itemsize)#Bytes\n",
    "print(b.itemsize)#Bytes"
   ]
  },
  {
   "cell_type": "markdown",
   "id": "cbb3f408",
   "metadata": {},
   "source": [
    "<b>Total size</b>"
   ]
  },
  {
   "cell_type": "code",
   "execution_count": 12,
   "id": "19b561d4",
   "metadata": {},
   "outputs": [
    {
     "name": "stdout",
     "output_type": "stream",
     "text": [
      "5\n",
      "10\n"
     ]
    }
   ],
   "source": [
    "print(arr.size) #No of elements\n",
    "print(b.nbytes) #No of bytes"
   ]
  },
  {
   "cell_type": "markdown",
   "id": "4061d83a",
   "metadata": {},
   "source": [
    "### Accessing and Modifying"
   ]
  },
  {
   "cell_type": "code",
   "execution_count": 15,
   "id": "1d8fc7c2",
   "metadata": {},
   "outputs": [
    {
     "name": "stdout",
     "output_type": "stream",
     "text": [
      "[[ 1  2  3  4  5  6  7  8  9 10]\n",
      " [11 12 13 14 15 16 17 18 19 20]]\n"
     ]
    }
   ],
   "source": [
    "newArr=np.array([[1,2,3,4,5,6,7,8,9,10],\\\n",
    "                 [11,12,13,14,15,16,17,18,19,20]])\n",
    "print(newArr)"
   ]
  },
  {
   "cell_type": "markdown",
   "id": "8399da14",
   "metadata": {},
   "source": [
    "<b>Accessing</b>\n",
    "    \n",
    "    arr[r, c]"
   ]
  },
  {
   "cell_type": "code",
   "execution_count": 17,
   "id": "4baea173",
   "metadata": {},
   "outputs": [
    {
     "name": "stdout",
     "output_type": "stream",
     "text": [
      "7\n",
      "5\n"
     ]
    }
   ],
   "source": [
    "print(newArr[0, -4])\n",
    "print(newArr[0,4])"
   ]
  },
  {
   "cell_type": "markdown",
   "id": "d398a732",
   "metadata": {},
   "source": [
    "<b>Accessing an entire Row/Column</b>"
   ]
  },
  {
   "cell_type": "code",
   "execution_count": 18,
   "id": "df3cb1cc",
   "metadata": {},
   "outputs": [
    {
     "name": "stdout",
     "output_type": "stream",
     "text": [
      "[ 1  2  3  4  5  6  7  8  9 10]\n"
     ]
    }
   ],
   "source": [
    "print(newArr[0,:])"
   ]
  },
  {
   "cell_type": "code",
   "execution_count": 20,
   "id": "6c6418da",
   "metadata": {},
   "outputs": [
    {
     "name": "stdout",
     "output_type": "stream",
     "text": [
      "[[ 4  5]\n",
      " [14 15]]\n"
     ]
    }
   ],
   "source": [
    "print(newArr[:, 3:5])"
   ]
  },
  {
   "cell_type": "code",
   "execution_count": 24,
   "id": "47a1585a",
   "metadata": {},
   "outputs": [
    {
     "name": "stdout",
     "output_type": "stream",
     "text": [
      "[[ 1  2  3  4  5  6  7  8  9 10]\n",
      " [11 12 13 14 15 16 17 18 19 20]]\n",
      "\n",
      "6th Column:\n",
      "[ 6 16]\n"
     ]
    }
   ],
   "source": [
    "print(\"{}\\n\".format(newArr))\n",
    "print(\"6th Column:\")\n",
    "print(newArr[:, 5])"
   ]
  },
  {
   "cell_type": "code",
   "execution_count": 31,
   "id": "908257d7",
   "metadata": {},
   "outputs": [
    {
     "name": "stdout",
     "output_type": "stream",
     "text": [
      "[[ 1  2  1]\n",
      " [11  2  0]]\n"
     ]
    }
   ],
   "source": [
    "print(newArr[:, 0:9:3])"
   ]
  },
  {
   "cell_type": "markdown",
   "id": "6772d053",
   "metadata": {},
   "source": [
    "<b>Changing elements</b>"
   ]
  },
  {
   "cell_type": "code",
   "execution_count": 30,
   "id": "e346df23",
   "metadata": {},
   "outputs": [
    {
     "name": "stdout",
     "output_type": "stream",
     "text": [
      "[[ 1  2  3  4  5  6  7  8  9 10]\n",
      " [11 12 13 14 15 16 17 18 19 20]]\n",
      "\n",
      "Original: 15\n",
      "New: 7\n",
      "Original: [ 4 14]\n",
      "New: [2 2]\n",
      "Original: [ 7 17]\n",
      "New: [1 0]\n",
      "\n",
      "[[ 1  2  3  2  5  6  1  8  9 10]\n",
      " [11 12 13  2  7 16  0 18 19 20]]\n"
     ]
    }
   ],
   "source": [
    "newArr=np.array([[1,2,3,4,5,6,7,8,9,10],\\\n",
    "                 [11,12,13,14,15,16,17,18,19,20]])\n",
    "print(newArr)\n",
    "print()\n",
    "#Single element\n",
    "print(\"Original: {}\".format(newArr[1,4]))\n",
    "newArr[1,4]=7\n",
    "print(\"New: {}\".format(newArr[1,4]))\n",
    "\n",
    "#Entire Column\n",
    "print(\"Original: {}\".format(newArr[:, 3]))\n",
    "newArr[:, 3]=2\n",
    "print(\"New: {}\".format(newArr[:, 3]))\n",
    "\n",
    "#Entire column by providing a list of the same shape\n",
    "print(\"Original: {}\".format(newArr[:, 6]))\n",
    "newArr[:, 6]=[1, 0]\n",
    "print(\"New: {}\".format(newArr[:, 6]))\n",
    "\n",
    "print()\n",
    "print(newArr)"
   ]
  },
  {
   "cell_type": "markdown",
   "id": "ddabc4ce",
   "metadata": {},
   "source": [
    "---\n",
    "### Initialising\n",
    "---"
   ]
  },
  {
   "cell_type": "markdown",
   "id": "3b077c6b",
   "metadata": {},
   "source": [
    "<b>Zero Matrix</b>"
   ]
  },
  {
   "cell_type": "code",
   "execution_count": 37,
   "id": "3d2320bf",
   "metadata": {},
   "outputs": [
    {
     "name": "stdout",
     "output_type": "stream",
     "text": [
      "One Dimensional\n",
      "[0. 0. 0. 0. 0. 0.]\n",
      "\n",
      "Two Dimensional\n",
      "[[0. 0. 0. 0. 0. 0.]\n",
      " [0. 0. 0. 0. 0. 0.]\n",
      " [0. 0. 0. 0. 0. 0.]]\n",
      "\n",
      "Three Dimensional\n",
      "[[[0. 0. 0. 0. 0.]\n",
      "  [0. 0. 0. 0. 0.]\n",
      "  [0. 0. 0. 0. 0.]]\n",
      "\n",
      " [[0. 0. 0. 0. 0.]\n",
      "  [0. 0. 0. 0. 0.]\n",
      "  [0. 0. 0. 0. 0.]]]\n"
     ]
    }
   ],
   "source": [
    "print(\"One Dimensional\")\n",
    "print(np.zeros((6)))\n",
    "print()\n",
    "print(\"Two Dimensional\")\n",
    "print(np.zeros((3,6)))\n",
    "print()\n",
    "print(\"Three Dimensional\")\n",
    "print(np.zeros((2,3,5)))\n"
   ]
  },
  {
   "cell_type": "markdown",
   "id": "75b75c64",
   "metadata": {},
   "source": [
    "<b>All Ones</b>"
   ]
  },
  {
   "cell_type": "code",
   "execution_count": 45,
   "id": "fee4cd89",
   "metadata": {},
   "outputs": [
    {
     "data": {
      "text/plain": [
       "array([[1., 1., 1., 1.],\n",
       "       [1., 1., 1., 1.]], dtype=float32)"
      ]
     },
     "execution_count": 45,
     "metadata": {},
     "output_type": "execute_result"
    }
   ],
   "source": [
    "np.ones((2,4), dtype='float32')"
   ]
  },
  {
   "cell_type": "markdown",
   "id": "ddd0867f",
   "metadata": {},
   "source": [
    "<b>All values same Matrix</b>"
   ]
  },
  {
   "cell_type": "code",
   "execution_count": 39,
   "id": "d66cfa8c",
   "metadata": {},
   "outputs": [
    {
     "data": {
      "text/plain": [
       "array([[69, 69, 69, 69],\n",
       "       [69, 69, 69, 69],\n",
       "       [69, 69, 69, 69]])"
      ]
     },
     "execution_count": 39,
     "metadata": {},
     "output_type": "execute_result"
    }
   ],
   "source": [
    "np.full((3,4), 69)"
   ]
  },
  {
   "cell_type": "code",
   "execution_count": 42,
   "id": "e9170b7c",
   "metadata": {},
   "outputs": [
    {
     "data": {
      "text/plain": [
       "array([[420, 420, 420, 420],\n",
       "       [420, 420, 420, 420],\n",
       "       [420, 420, 420, 420]], dtype=int16)"
      ]
     },
     "execution_count": 42,
     "metadata": {},
     "output_type": "execute_result"
    }
   ],
   "source": [
    "np.full((3,4), 420, dtype='int16')"
   ]
  },
  {
   "cell_type": "markdown",
   "id": "e613e37b",
   "metadata": {},
   "source": [
    "<b>Full Like</b><br>\n",
    "Shape of another array"
   ]
  },
  {
   "cell_type": "code",
   "execution_count": 51,
   "id": "39fe1818",
   "metadata": {},
   "outputs": [
    {
     "name": "stdout",
     "output_type": "stream",
     "text": [
      "[[5 5 5 5 5]\n",
      " [5 5 5 5 5]]\n",
      "\n",
      "[[6 6 6 6 6]\n",
      " [6 6 6 6 6]]\n"
     ]
    }
   ],
   "source": [
    "np.shape(arrDD)\n",
    "print(np.full_like(arrDD, 5))\n",
    "print()\n",
    "print(np.full(arrDD.shape, 6))"
   ]
  },
  {
   "cell_type": "markdown",
   "id": "5c17d6ee",
   "metadata": {},
   "source": [
    "<b>Identity Matrix</b>"
   ]
  },
  {
   "cell_type": "code",
   "execution_count": 67,
   "id": "9ef05981",
   "metadata": {},
   "outputs": [
    {
     "name": "stdout",
     "output_type": "stream",
     "text": [
      "[[1 0 0 0 0 0 0]\n",
      " [0 1 0 0 0 0 0]\n",
      " [0 0 1 0 0 0 0]\n",
      " [0 0 0 1 0 0 0]\n",
      " [0 0 0 0 1 0 0]\n",
      " [0 0 0 0 0 1 0]\n",
      " [0 0 0 0 0 0 1]]\n"
     ]
    }
   ],
   "source": [
    "print(np.identity(7, dtype='int16'))"
   ]
  },
  {
   "cell_type": "markdown",
   "id": "e125ae66",
   "metadata": {},
   "source": [
    "### Random Numbers"
   ]
  },
  {
   "cell_type": "code",
   "execution_count": 55,
   "id": "8a352267",
   "metadata": {},
   "outputs": [
    {
     "name": "stdout",
     "output_type": "stream",
     "text": [
      "[[0.87551392 0.57544798 0.21183304]\n",
      " [0.75484374 0.7498744  0.70578755]\n",
      " [0.43437721 0.00685233 0.15067309]\n",
      " [0.18111378 0.22736842 0.82783676]]\n",
      "\n",
      "[[0.92408084 0.5338497  0.91703297 0.68315667 0.91639808]\n",
      " [0.43461864 0.14749592 0.25969148 0.36531957 0.31209726]]\n"
     ]
    }
   ],
   "source": [
    "# Matrix of random numbers\n",
    "print(np.random.rand(4,3))\n",
    "print()\n",
    "# Using the shape of another array\n",
    "print(np.random.random_sample(arrDD.shape))"
   ]
  },
  {
   "cell_type": "markdown",
   "id": "7ba05600",
   "metadata": {},
   "source": [
    "<b>Random Integer Values</b>"
   ]
  },
  {
   "cell_type": "code",
   "execution_count": 65,
   "id": "72f6de4f",
   "metadata": {},
   "outputs": [
    {
     "name": "stdout",
     "output_type": "stream",
     "text": [
      "[[12 28 29  5  5]\n",
      " [ 1 14  0 18  5]]\n",
      "\n",
      "[[76 85 75 79 72]\n",
      " [51 95 86 51 51]]\n"
     ]
    }
   ],
   "source": [
    "print(np.random.randint(30, size=(2,5)))\n",
    "print()\n",
    "\n",
    "# Between two numbers\n",
    "print(np.random.randint(50, 100, size=(2,5)))"
   ]
  },
  {
   "cell_type": "markdown",
   "id": "ed4c5001",
   "metadata": {},
   "source": [
    "### Repeating an Array"
   ]
  },
  {
   "cell_type": "code",
   "execution_count": 86,
   "id": "a06b984d",
   "metadata": {},
   "outputs": [
    {
     "name": "stdout",
     "output_type": "stream",
     "text": [
      "[1 2 3 4 5]\n",
      "\n",
      "[1 1 1 1 2 2 2 2 3 3 3 3 4 4 4 4 5 5 5 5]\n",
      "[[1 2 3 4 5]\n",
      " [1 2 3 4 5]\n",
      " [1 2 3 4 5]\n",
      " [1 2 3 4 5]]\n",
      "\n",
      "[[[1 2 3 4 5]\n",
      "  [1 2 3 4 5]\n",
      "  [1 2 3 4 5]\n",
      "  [1 2 3 4 5]]]\n"
     ]
    }
   ],
   "source": [
    "print(arr)\n",
    "print()\n",
    "r1=np.repeat(arr, 4)\n",
    "print(r1)\n",
    "r2=np.repeat([arr], 4, axis=0)\n",
    "print(r2)\n",
    "print()\n",
    "r3=np.repeat([[arr]], 4, axis=1)\n",
    "print(r3)\n",
    "\n",
    "\n",
    "# Note to Self: Experiment with this code by changin axis"
   ]
  },
  {
   "cell_type": "markdown",
   "id": "933b3721",
   "metadata": {},
   "source": [
    "---\n",
    "## Practice\n",
    "---\n",
    "\n",
    "<b>Problem 1</b><br>\n",
    "<br>\n",
    "Create this array\n",
    "\n",
    "    1 1 1 1 1\n",
    "    1 0 0 0 1\n",
    "    1 0 9 0 1\n",
    "    1 0 0 0 1\n",
    "    1 1 1 1 1"
   ]
  },
  {
   "cell_type": "code",
   "execution_count": 93,
   "id": "06c4da00",
   "metadata": {},
   "outputs": [
    {
     "name": "stdout",
     "output_type": "stream",
     "text": [
      "[[1 1 1 1 1]\n",
      " [1 0 0 0 1]\n",
      " [1 0 9 0 1]\n",
      " [1 0 0 0 1]\n",
      " [1 1 1 1 1]]\n"
     ]
    }
   ],
   "source": [
    "array=np.ones((5, 5), dtype='int')\n",
    "array[1:-1, 1:-1]=np.full((3, 3), 0, dtype='int')\n",
    "array[2, 2]=9\n",
    "print(array)"
   ]
  },
  {
   "cell_type": "markdown",
   "id": "3a3c56cd",
   "metadata": {},
   "source": [
    "#### Copying arrays"
   ]
  },
  {
   "cell_type": "code",
   "execution_count": 107,
   "id": "cb78551f",
   "metadata": {},
   "outputs": [],
   "source": [
    "a=np.array([1,2,3])"
   ]
  },
  {
   "cell_type": "markdown",
   "id": "8f638c29",
   "metadata": {},
   "source": [
    "    Doing b=a will result in 'b' and 'a' pointing to the same list memory"
   ]
  },
  {
   "cell_type": "code",
   "execution_count": 108,
   "id": "44cb0219",
   "metadata": {},
   "outputs": [
    {
     "name": "stdout",
     "output_type": "stream",
     "text": [
      "[1 8 3]\n",
      "[1 8 3]\n",
      "[1 2 3]\n"
     ]
    }
   ],
   "source": [
    "b=a\n",
    "c=a.copy()\n",
    "a[1]=8\n",
    "print(a)\n",
    "print(b)\n",
    "\n",
    "print(c)\n"
   ]
  },
  {
   "cell_type": "markdown",
   "id": "78e22a88",
   "metadata": {},
   "source": [
    "# Mathematics"
   ]
  },
  {
   "cell_type": "code",
   "execution_count": 109,
   "id": "81f5923b",
   "metadata": {},
   "outputs": [
    {
     "name": "stdout",
     "output_type": "stream",
     "text": [
      "[1 2 3 4 5]\n"
     ]
    }
   ],
   "source": [
    "print(arr)"
   ]
  },
  {
   "cell_type": "code",
   "execution_count": 118,
   "id": "b8ef2f4c",
   "metadata": {},
   "outputs": [
    {
     "name": "stdout",
     "output_type": "stream",
     "text": [
      "[3 4 5 6 7]\n",
      "\n",
      "[0.5 1.  1.5 2.  2.5]\n",
      "\n",
      "[ 2  4  6  8 10]\n",
      "\n"
     ]
    }
   ],
   "source": [
    "print(arr+2)\n",
    "print()\n",
    "print(arr/2)\n",
    "print()\n",
    "print(arr*2)\n",
    "print()"
   ]
  },
  {
   "cell_type": "code",
   "execution_count": 120,
   "id": "f7ad1dd6",
   "metadata": {},
   "outputs": [],
   "source": [
    "b=np.array([0,1,0,1,0])"
   ]
  },
  {
   "cell_type": "code",
   "execution_count": 127,
   "id": "f0e3be17",
   "metadata": {},
   "outputs": [
    {
     "name": "stdout",
     "output_type": "stream",
     "text": [
      "[1 3 3 5 5]\n",
      "\n",
      "[ 1  4  9 16 25]\n",
      "\n",
      "[  1   8  27  64 125]\n",
      "\n",
      "[ 0.54030231 -0.41614684 -0.9899925  -0.65364362  0.28366219]\n",
      "\n",
      "[ 0.84147098  0.90929743  0.14112001 -0.7568025  -0.95892427]\n"
     ]
    }
   ],
   "source": [
    "print(arr+b)\n",
    "print()\n",
    "print(arr**2)\n",
    "print()\n",
    "print(arr**3)\n",
    "print()\n",
    "print(np.cos(arr))\n",
    "print()\n",
    "print(np.sin(arr))"
   ]
  },
  {
   "cell_type": "markdown",
   "id": "3be52938",
   "metadata": {},
   "source": [
    "### Linear Algebra"
   ]
  },
  {
   "cell_type": "markdown",
   "id": "681e2648",
   "metadata": {},
   "source": [
    "<b>Matrix Multiplication</b>"
   ]
  },
  {
   "cell_type": "code",
   "execution_count": 130,
   "id": "3fce85bd",
   "metadata": {},
   "outputs": [
    {
     "name": "stdout",
     "output_type": "stream",
     "text": [
      "[[ 28  50  71  69  93]\n",
      " [ 93 104 125  98 187]]\n"
     ]
    }
   ],
   "source": [
    "arr1=np.random.randint(0,8,size=(2,4))\n",
    "arr2=np.random.randint(0,10,size=(4,5))\n",
    "print(np.matmul(arr1, arr2))"
   ]
  },
  {
   "cell_type": "code",
   "execution_count": 143,
   "id": "43c8dfb9",
   "metadata": {},
   "outputs": [
    {
     "name": "stdout",
     "output_type": "stream",
     "text": [
      "[[4 9 3]\n",
      " [7 1 7]\n",
      " [8 4 3]]\n",
      "274.9999999999999\n"
     ]
    }
   ],
   "source": [
    "arr1=np.random.randint(0,10,size=(3,3))\n",
    "print(arr1)\n",
    "print(np.linalg.det(arr1))"
   ]
  },
  {
   "cell_type": "markdown",
   "id": "1186835b",
   "metadata": {},
   "source": [
    "---\n",
    "## Statistics\n",
    "---"
   ]
  },
  {
   "cell_type": "markdown",
   "id": "e40e8b72",
   "metadata": {},
   "source": [
    "    np.min(arrVar)\n",
    "    np.max(arrVar, axis=0)\n",
    "    np.sum(arrVar, axis=0)\n",
    "    etc."
   ]
  },
  {
   "cell_type": "markdown",
   "id": "07e3d8bd",
   "metadata": {},
   "source": [
    "---\n",
    "## Reorganising Arrays\n",
    "---"
   ]
  },
  {
   "cell_type": "code",
   "execution_count": 152,
   "id": "f6114b5d",
   "metadata": {},
   "outputs": [
    {
     "name": "stdout",
     "output_type": "stream",
     "text": [
      "[[1 2 3 4]\n",
      " [5 6 4 3]]\n",
      "\n",
      "[[1 2]\n",
      " [3 4]\n",
      " [5 6]\n",
      " [4 3]]\n",
      "\n",
      "[[[1 2]\n",
      "  [3 4]]\n",
      "\n",
      " [[5 6]\n",
      "  [4 3]]]\n"
     ]
    }
   ],
   "source": [
    "before=np.array([[1,2,3,4],[5,6,4,3]])\n",
    "print(before)\n",
    "after=before.reshape((4,2))\n",
    "print()\n",
    "print(after)\n",
    "after=before.reshape((2,2,2))\n",
    "print()\n",
    "print(after)"
   ]
  },
  {
   "cell_type": "markdown",
   "id": "2078ec61",
   "metadata": {},
   "source": [
    "<b>Vertical Stacking</b>"
   ]
  },
  {
   "cell_type": "code",
   "execution_count": 157,
   "id": "bd4a3372",
   "metadata": {},
   "outputs": [
    {
     "name": "stdout",
     "output_type": "stream",
     "text": [
      "[[1 2 3 4 5]\n",
      " [1 2 3 4 5]\n",
      " [3 6 5 7 8]\n",
      " [1 2 3 4 5]\n",
      " [3 6 5 7 8]]\n"
     ]
    }
   ],
   "source": [
    "v1=np.array([1,2,3,4,5])\n",
    "v2=np.array([3,6,5,7,8])\n",
    "print(np.vstack((v1,v1,v2,v1,v2)))\n",
    "# np.vstack([v1,v2,v3]) also works"
   ]
  },
  {
   "cell_type": "markdown",
   "id": "fdabf7e9",
   "metadata": {},
   "source": [
    "<b>Horizontal Stacking</b>"
   ]
  },
  {
   "cell_type": "code",
   "execution_count": 160,
   "id": "99f51533",
   "metadata": {},
   "outputs": [
    {
     "name": "stdout",
     "output_type": "stream",
     "text": [
      "[[1. 5. 0. 0. 0. 0. 0. 0. 0. 0. 0. 0.]\n",
      " [2. 3. 0. 0. 0. 0. 0. 0. 0. 0. 0. 0.]]\n"
     ]
    }
   ],
   "source": [
    "h1=np.array([[1,5], [2,3]])\n",
    "h2=np.zeros((2,10))\n",
    "print(np.hstack((h1, h2)))"
   ]
  },
  {
   "cell_type": "markdown",
   "id": "fcca66e0",
   "metadata": {},
   "source": [
    "---\n",
    "## Other things\n",
    "---"
   ]
  },
  {
   "cell_type": "markdown",
   "id": "3e0575ef",
   "metadata": {},
   "source": [
    "<b>Loading data from a file</b>"
   ]
  },
  {
   "cell_type": "code",
   "execution_count": 176,
   "id": "720033cb",
   "metadata": {},
   "outputs": [],
   "source": [
    "fileArray=np.genfromtxt('filename.txt', delimiter=',', dtype=int)\n",
    "# Datatype can also be changed by using\n",
    "newFiledata=fileArray.astype(float)\n",
    "# astype method returns an array. Does not change the array"
   ]
  },
  {
   "cell_type": "code",
   "execution_count": 177,
   "id": "1254720a",
   "metadata": {},
   "outputs": [
    {
     "name": "stdout",
     "output_type": "stream",
     "text": [
      "[[20 18 63 77 81 40 62 32 88  4 64 14 69 41]\n",
      " [65 28 29 28 12 73 93 99 84 94 86 50 33 43]\n",
      " [29 32  6  6 93 39 62 90 46  9  8 54 34 26]\n",
      " [ 3 53 11 92 88  4 16 87 20 59 39 16 75 32]\n",
      " [19 11  4 60 43 77 67 23 82 59 96 58 18 77]]\n",
      "\n",
      "[[20. 18. 63. 77. 81. 40. 62. 32. 88.  4. 64. 14. 69. 41.]\n",
      " [65. 28. 29. 28. 12. 73. 93. 99. 84. 94. 86. 50. 33. 43.]\n",
      " [29. 32.  6.  6. 93. 39. 62. 90. 46.  9.  8. 54. 34. 26.]\n",
      " [ 3. 53. 11. 92. 88.  4. 16. 87. 20. 59. 39. 16. 75. 32.]\n",
      " [19. 11.  4. 60. 43. 77. 67. 23. 82. 59. 96. 58. 18. 77.]]\n"
     ]
    }
   ],
   "source": [
    "print(fileArray)\n",
    "print()\n",
    "print(newFiledata)"
   ]
  },
  {
   "cell_type": "markdown",
   "id": "a373d774",
   "metadata": {},
   "source": [
    "<b>Boolean Masking and Advanced indexing</b>"
   ]
  },
  {
   "cell_type": "code",
   "execution_count": 178,
   "id": "ae1ef466",
   "metadata": {},
   "outputs": [
    {
     "name": "stdout",
     "output_type": "stream",
     "text": [
      "[[False False  True  True  True False  True False  True False  True False\n",
      "   True False]\n",
      " [ True False False False False  True  True  True  True  True  True False\n",
      "  False False]\n",
      " [False False False False  True False  True  True False False False  True\n",
      "  False False]\n",
      " [False  True False  True  True False False  True False  True False False\n",
      "   True False]\n",
      " [False False False  True False  True  True False  True  True  True  True\n",
      "  False  True]]\n"
     ]
    }
   ],
   "source": [
    "print(fileArray>50)"
   ]
  },
  {
   "cell_type": "code",
   "execution_count": 180,
   "id": "11697919",
   "metadata": {},
   "outputs": [
    {
     "name": "stdout",
     "output_type": "stream",
     "text": [
      "[63 77 81 62 88 64 69 65 73 93 99 84 94 86 93 62 90 54 53 92 88 87 59 75\n",
      " 60 77 67 82 59 96 58 77]\n"
     ]
    }
   ],
   "source": [
    "print(fileArray[fileArray >50])"
   ]
  },
  {
   "cell_type": "markdown",
   "id": "c9649413",
   "metadata": {},
   "source": [
    "<b>Indexing using a list</b>"
   ]
  },
  {
   "cell_type": "code",
   "execution_count": 188,
   "id": "1f69378e",
   "metadata": {},
   "outputs": [
    {
     "name": "stdout",
     "output_type": "stream",
     "text": [
      "arr is:\n",
      "[0 3 5 6 8]\n",
      "\n",
      "a is :\n",
      "[ 1  2  3  4  5  6  7  8  9 10 11 12 13 14 15]\n",
      "\n",
      "\n",
      "Indexing using arr:\n",
      "[1 4 6 7 9]\n"
     ]
    }
   ],
   "source": [
    "arr=np.array([0,3,5,6,8])\n",
    "print(\"arr is:\\n{}\\n\".format(arr))\n",
    "a=np.array([1,2,3,4,5,6,7,8,9,10,11,12,13,14,15])\n",
    "print(\"a is :\\n{}\\n\".format(a))\n",
    "print()\n",
    "print(\"Indexing using arr:\")\n",
    "print(a[arr])"
   ]
  },
  {
   "cell_type": "code",
   "execution_count": 193,
   "id": "15c04aa0",
   "metadata": {},
   "outputs": [
    {
     "name": "stdout",
     "output_type": "stream",
     "text": [
      "[ True  True  True  True  True  True  True  True  True  True  True  True\n",
      "  True  True]\n",
      "[False False False False False False False False False False False False\n",
      " False False]\n"
     ]
    }
   ],
   "source": [
    "# Checking if ANY of the values in\n",
    "# one of the columns of fileArray is greater than 50\n",
    "print(np.any(fileArray>50, axis=0))\n",
    "\n",
    "# Checking if ANY of the values in\n",
    "# one of the columns of fileArray is greater than 50\n",
    "print(np.all(fileArray>50, axis=0))"
   ]
  },
  {
   "cell_type": "code",
   "execution_count": 195,
   "id": "99adb8fd",
   "metadata": {},
   "outputs": [
    {
     "name": "stdout",
     "output_type": "stream",
     "text": [
      "[[False False  True  True  True False  True False  True False  True False\n",
      "   True False]\n",
      " [ True False False False False  True  True  True  True  True  True False\n",
      "  False False]\n",
      " [False False False False  True False  True  True False False False  True\n",
      "  False False]\n",
      " [False  True False  True  True False False  True False  True False False\n",
      "   True False]\n",
      " [False False False  True False  True  True False  True  True  True  True\n",
      "  False  True]]\n"
     ]
    }
   ],
   "source": [
    "print((fileArray>50) & (fileArray<100))"
   ]
  },
  {
   "cell_type": "markdown",
   "id": "aba9b4f1",
   "metadata": {},
   "source": [
    "### Problem\n",
    "\n",
    "    How to index 2,8,14,20 cells in the given array\n",
    "    \n",
    "         1  2  3  4  5\n",
    "         6  7  8  9 10\n",
    "        11 12 13 14 15\n",
    "        16 17 18 19 20\n",
    "        21 22 23 24 25\n",
    "        26 27 28 29 30\n",
    "        \n",
    "    a[[0,1,2,3], [1,2,3,4]]\n",
    "    \n",
    "    # First list is the row indexes\n",
    "    # Second list is the column indexes\n",
    "    \n",
    "    How to index 4,5,24,25,29,30\n",
    "    \n",
    "    a[[0,4,5], 3:]"
   ]
  },
  {
   "cell_type": "code",
   "execution_count": null,
   "id": "45fc79f5",
   "metadata": {},
   "outputs": [],
   "source": []
  }
 ],
 "metadata": {
  "kernelspec": {
   "display_name": "Python 3",
   "language": "python",
   "name": "python3"
  },
  "language_info": {
   "codemirror_mode": {
    "name": "ipython",
    "version": 3
   },
   "file_extension": ".py",
   "mimetype": "text/x-python",
   "name": "python",
   "nbconvert_exporter": "python",
   "pygments_lexer": "ipython3",
   "version": "3.8.8"
  }
 },
 "nbformat": 4,
 "nbformat_minor": 5
}
