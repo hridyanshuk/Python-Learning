{
 "cells": [
  {
   "cell_type": "markdown",
   "id": "af57e664",
   "metadata": {},
   "source": [
    "# Dictionaries\n",
    "---"
   ]
  },
  {
   "cell_type": "markdown",
   "id": "9a914c37",
   "metadata": {},
   "source": [
    "## 1. Introduction\n",
    "---\n",
    "### 1.1 Declaration and accessing"
   ]
  },
  {
   "cell_type": "code",
   "execution_count": 1,
   "id": "5d4111e8",
   "metadata": {},
   "outputs": [
    {
     "name": "stdout",
     "output_type": "stream",
     "text": [
      "The value of 'key1' is \"value of key1\", and that of 'key2' is \"value of key2\".We can also store different datatypes,for eg. value of 'key3' is actually an integer: \"45\"\n"
     ]
    }
   ],
   "source": [
    "varDict={'key1':'value of key1', 'key2':'value of key2', 'key3':45}\n",
    "print(f\"The value of 'key1' is \\\"{varDict['key1']}\\\", \\\n",
    "and that of 'key2' is \\\"{varDict['key2']}\\\".\\\n",
    "We can also store different datatypes,\\\n",
    "for eg. value of 'key3' is actually an integer: \\\"{varDict['key3']}\\\"\")"
   ]
  },
  {
   "cell_type": "markdown",
   "id": "d04d613a",
   "metadata": {},
   "source": [
    "## 2. Working with data\n",
    "---\n",
    "### 2.1 Addition of new pairs"
   ]
  },
  {
   "cell_type": "code",
   "execution_count": 2,
   "id": "905a3b26",
   "metadata": {},
   "outputs": [
    {
     "name": "stdout",
     "output_type": "stream",
     "text": [
      "Added 'New Value'\n"
     ]
    }
   ],
   "source": [
    "varDict['newKey']='New Value'\n",
    "print(f\"Added \\'{varDict['newKey']}\\'\")"
   ]
  },
  {
   "cell_type": "markdown",
   "id": "0a06ed33",
   "metadata": {},
   "source": [
    "### 2.2 Modifying"
   ]
  },
  {
   "cell_type": "code",
   "execution_count": 3,
   "id": "0516ed6b",
   "metadata": {},
   "outputs": [
    {
     "name": "stdout",
     "output_type": "stream",
     "text": [
      "Changed to 'New New Value'\n"
     ]
    }
   ],
   "source": [
    "varDict['newKey']='New New Value'\n",
    "print(f\"Changed to \\'{varDict['newKey']}\\'\")"
   ]
  },
  {
   "cell_type": "markdown",
   "id": "5caf829b",
   "metadata": {},
   "source": [
    "### 2.3 Deleting values"
   ]
  },
  {
   "cell_type": "code",
   "execution_count": 4,
   "id": "e5dcf1fb",
   "metadata": {},
   "outputs": [
    {
     "name": "stdout",
     "output_type": "stream",
     "text": [
      "{'key1': 'value of key1', 'key2': 'value of key2', 'key3': 45, 'newKey': 'New New Value'}\n",
      "{'key1': 'value of key1', 'key2': 'value of key2', 'key3': 45}\n"
     ]
    }
   ],
   "source": [
    "print(varDict)\n",
    "del varDict['newKey']\n",
    "print(varDict)"
   ]
  },
  {
   "cell_type": "markdown",
   "id": "a4a74352",
   "metadata": {},
   "source": [
    "### 2.4 Accessing values and giving an error message if key not present"
   ]
  },
  {
   "cell_type": "code",
   "execution_count": 5,
   "id": "6850344a",
   "metadata": {},
   "outputs": [
    {
     "name": "stdout",
     "output_type": "stream",
     "text": [
      "'absentKey' not present\n"
     ]
    }
   ],
   "source": [
    "value=varDict.get('absentKey', \"'absentKey' not present\")\n",
    "print(value)"
   ]
  },
  {
   "cell_type": "markdown",
   "id": "5bf03a05",
   "metadata": {},
   "source": [
    "## 3. Looping\n",
    "---\n",
    "### 3.1 Getting key value pairs"
   ]
  },
  {
   "cell_type": "code",
   "execution_count": 6,
   "id": "8ab4b3f1",
   "metadata": {},
   "outputs": [
    {
     "name": "stdout",
     "output_type": "stream",
     "text": [
      "Key : key1\n",
      "Value : value of key1\n",
      "\n",
      "Key : key2\n",
      "Value : value of key2\n",
      "\n",
      "Key : key3\n",
      "Value : 45\n",
      "\n"
     ]
    }
   ],
   "source": [
    "for key, value in varDict.items():\n",
    "    print(f\"Key : {key}\\nValue : {value}\\n\")"
   ]
  },
  {
   "cell_type": "markdown",
   "id": "69f01c4a",
   "metadata": {},
   "source": [
    "### 3.2 Getting just keys"
   ]
  },
  {
   "cell_type": "code",
   "execution_count": 7,
   "id": "5240d771",
   "metadata": {
    "scrolled": true
   },
   "outputs": [
    {
     "name": "stdout",
     "output_type": "stream",
     "text": [
      "Key : key1\n",
      "Value : 45\n",
      "\n",
      "Key : key2\n",
      "Value : 45\n",
      "\n",
      "Key : key3\n",
      "Value : 45\n",
      "\n",
      "Key : key1\n",
      "Value : 45\n",
      "\n",
      "Key : key2\n",
      "Value : 45\n",
      "\n",
      "Key : key3\n",
      "Value : 45\n",
      "\n"
     ]
    }
   ],
   "source": [
    "for key in varDict:\n",
    "    print(f\"Key : {key}\\nValue : {value}\\n\")\n",
    "\n",
    "# Another method\n",
    "\n",
    "for key in varDict.keys():\n",
    "    print(f\"Key : {key}\\nValue : {value}\\n\")    "
   ]
  },
  {
   "cell_type": "markdown",
   "id": "d25b63c7",
   "metadata": {},
   "source": [
    "### 3.3 Getting keys in a different order"
   ]
  },
  {
   "cell_type": "code",
   "execution_count": 8,
   "id": "3f4377f3",
   "metadata": {},
   "outputs": [
    {
     "name": "stdout",
     "output_type": "stream",
     "text": [
      "{'key1': 'value of key1', 'key2': 'value of key2', 'key3': 45, 'aNewKey': 'a new value'}\n",
      "\n",
      "\n",
      "Key : aNewKey\n",
      "Value : a new value\n",
      "\n",
      "Key : key1\n",
      "Value : value of key1\n",
      "\n",
      "Key : key2\n",
      "Value : value of key2\n",
      "\n",
      "Key : key3\n",
      "Value : 45\n",
      "\n"
     ]
    }
   ],
   "source": [
    "varDict['aNewKey']='a new value'\n",
    "print(varDict)\n",
    "print()\n",
    "print()\n",
    "for key in sorted(varDict.keys()):\n",
    "    print(f\"Key : {key}\\nValue : {varDict[key]}\\n\")"
   ]
  },
  {
   "cell_type": "markdown",
   "id": "ad76710c",
   "metadata": {},
   "source": [
    "### 3.4 Getting Values from a dictionary"
   ]
  },
  {
   "cell_type": "code",
   "execution_count": 9,
   "id": "7ec1e54b",
   "metadata": {},
   "outputs": [
    {
     "name": "stdout",
     "output_type": "stream",
     "text": [
      "Value : value of key1\n",
      "\n",
      "Value : value of key2\n",
      "\n",
      "Value : 45\n",
      "\n",
      "Value : a new value\n",
      "\n"
     ]
    }
   ],
   "source": [
    "for value in varDict.values():\n",
    "    print(f\"Value : {value}\\n\")"
   ]
  },
  {
   "cell_type": "markdown",
   "id": "3cdd1b0d",
   "metadata": {},
   "source": [
    "### 3.5 Getting values in sorted order"
   ]
  },
  {
   "cell_type": "code",
   "execution_count": 10,
   "id": "2edc8674",
   "metadata": {},
   "outputs": [
    {
     "name": "stdout",
     "output_type": "stream",
     "text": [
      "Value : a new value\n",
      "\n",
      "Value : value of key1\n",
      "\n",
      "Value : value of key2\n",
      "\n"
     ]
    }
   ],
   "source": [
    "del varDict['key3']\n",
    "for value in sorted(varDict.values()):\n",
    "    print(f\"Value : {value}\\n\")"
   ]
  },
  {
   "cell_type": "markdown",
   "id": "6c7b2d16",
   "metadata": {},
   "source": [
    "## 4. Nesting\n",
    "---\n",
    "### 4.1 Dictionary in list"
   ]
  },
  {
   "cell_type": "code",
   "execution_count": 12,
   "id": "521e5e18",
   "metadata": {},
   "outputs": [
    {
     "name": "stdout",
     "output_type": "stream",
     "text": [
      "1\n",
      "2\n",
      "3\n",
      "4\n",
      "{'key': 1}\n",
      "{'key': 2}\n",
      "{'key': 3}\n",
      "{'key': 4}\n"
     ]
    }
   ],
   "source": [
    "listVar=[]\n",
    "dict1={\"key\":1}\n",
    "dict2={\"key\":2}\n",
    "dict3={\"key\":3}\n",
    "dict4={\"key\":4}\n",
    "listVar.append(dict1)\n",
    "listVar.append(dict2)\n",
    "listVar.append(dict3)\n",
    "listVar.append(dict4)\n",
    "for i in range(4):\n",
    "    print(listVar[i]['key'])\n",
    "for i in listVar:\n",
    "    print(i)"
   ]
  },
  {
   "cell_type": "markdown",
   "id": "c2657b9b",
   "metadata": {},
   "source": [
    "### 4.2 List in dictionary"
   ]
  },
  {
   "cell_type": "code",
   "execution_count": 19,
   "id": "22dedd4f",
   "metadata": {},
   "outputs": [
    {
     "name": "stdout",
     "output_type": "stream",
     "text": [
      "[1, 2, 3, 4, 5, 6, 7, 8, 9, 10, 11]\n",
      "[2, 3, 4, 5, 6, 7, 8, 9, 10, 11, 12]\n",
      "[3, 4, 5, 6, 7, 8, 9, 10, 11, 12, 13]\n",
      "[4, 5, 6, 7, 8, 9, 10, 11, 12, 13, 14]\n",
      "\n",
      "Key: list1\n",
      "Value: [1, 2, 3, 4, 5, 6, 7, 8, 9, 10, 11]\n",
      "\n",
      "Key: list2\n",
      "Value: [2, 3, 4, 5, 6, 7, 8, 9, 10, 11, 12]\n",
      "\n",
      "Key: list3\n",
      "Value: [3, 4, 5, 6, 7, 8, 9, 10, 11, 12, 13]\n",
      "\n",
      "Key: list4\n",
      "Value: [4, 5, 6, 7, 8, 9, 10, 11, 12, 13, 14]\n",
      "\n"
     ]
    }
   ],
   "source": [
    "dictVar={}\n",
    "for i in range(1,5):\n",
    "    listStr=f'list{i}'\n",
    "    tempList=[]\n",
    "    for j in range(i,i+11):\n",
    "        tempList.append(j)\n",
    "    dictVar[listStr]=tempList\n",
    "    \n",
    "for i in range(1,5):\n",
    "    print(dictVar[f'list{i}'])\n",
    "    \n",
    "print()\n",
    "for key, value in dictVar.items():\n",
    "    print(f\"Key: {key}\\nValue: {value}\\n\")"
   ]
  },
  {
   "cell_type": "markdown",
   "id": "3dbb1f5b",
   "metadata": {},
   "source": [
    "### 4.3 Dictionary in Dictionary\n",
    "##### Similar to above"
   ]
  }
 ],
 "metadata": {
  "kernelspec": {
   "display_name": "Python 3",
   "language": "python",
   "name": "python3"
  },
  "language_info": {
   "codemirror_mode": {
    "name": "ipython",
    "version": 3
   },
   "file_extension": ".py",
   "mimetype": "text/x-python",
   "name": "python",
   "nbconvert_exporter": "python",
   "pygments_lexer": "ipython3",
   "version": "3.8.8"
  }
 },
 "nbformat": 4,
 "nbformat_minor": 5
}
