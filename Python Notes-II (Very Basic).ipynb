{
 "cells": [
  {
   "cell_type": "markdown",
   "id": "1accbacb",
   "metadata": {},
   "source": [
    "---\n",
    "## Fuctions\n",
    "---\n",
    "\n",
    "<b>Used when we just want to declare a function but not define it yet</b>\n",
    "\n",
    "    def func():\n",
    "        pass\n",
    "\n",
    "<b>Define a function</b>\n",
    "\n",
    "    def func():\n",
    "        code\n",
    "        code\n",
    "        code"
   ]
  },
  {
   "cell_type": "code",
   "execution_count": 1,
   "id": "7d0c5ace",
   "metadata": {},
   "outputs": [
    {
     "name": "stdout",
     "output_type": "stream",
     "text": [
      "Yes\n"
     ]
    }
   ],
   "source": [
    "def printYes():\n",
    "    print(\"Yes\")\n",
    "def filler():\n",
    "    pass\n",
    "printYes()\n",
    "filler()"
   ]
  },
  {
   "cell_type": "markdown",
   "id": "b51b3461",
   "metadata": {},
   "source": [
    "---\n",
    "### Returning\n",
    "---\n",
    "\n",
    "    def hello():\n",
    "        return 'Hello'\n",
    "    \n",
    "    print(hello())"
   ]
  },
  {
   "cell_type": "code",
   "execution_count": 2,
   "id": "4679ceb6",
   "metadata": {},
   "outputs": [
    {
     "name": "stdout",
     "output_type": "stream",
     "text": [
      "Hello\n"
     ]
    }
   ],
   "source": [
    "def hello():\n",
    "    return 'Hello'\n",
    "\n",
    "print(hello())"
   ]
  },
  {
   "cell_type": "markdown",
   "id": "a9a7b413",
   "metadata": {},
   "source": [
    "---\n",
    "### Passing arguments\n",
    "---\n",
    "\n",
    "<b>No default value</b>\n",
    "\n",
    "    def greet(greeting):\n",
    "        return '{}'.format(greeting)\n",
    "    \n",
    "    print(greet('Hemlo'))\n",
    "    \n",
    "<b>Default value</b>\n",
    "\n",
    "    def greeting(name, greet='Hemlo'):\n",
    "        return '{} {}'.format(greeting, name) "
   ]
  },
  {
   "cell_type": "code",
   "execution_count": 3,
   "id": "d7060e76",
   "metadata": {},
   "outputs": [
    {
     "name": "stdout",
     "output_type": "stream",
     "text": [
      "Hemlo\n"
     ]
    }
   ],
   "source": [
    "def greet(salutation):\n",
    "    return '{}'.format(salutation)\n",
    "\n",
    "print(greet('Hemlo'))"
   ]
  },
  {
   "cell_type": "code",
   "execution_count": 4,
   "id": "9cb3959e",
   "metadata": {},
   "outputs": [
    {
     "name": "stdout",
     "output_type": "stream",
     "text": [
      "Hemlo Hridyanshu\n"
     ]
    }
   ],
   "source": [
    "def greetWithName(name, salutation='Hemlo'):\n",
    "    return '{} {}'.format(salutation, name)\n",
    "\n",
    "print(greetWithName('Hridyanshu'))"
   ]
  },
  {
   "cell_type": "markdown",
   "id": "03ed7ab6",
   "metadata": {},
   "source": [
    "Allows an arbitrary number of positional or keyword arguments\n",
    "\n",
    "    def func(*args, **kwargs):\n",
    "        print(args)\n",
    "        print(kwargs)\n",
    "    func('a', 'b', 'c', a1='a2', b1='b2', c1='c2')\n",
    "    \n",
    "Prints a tuple ('a', 'b', 'c') for print(args)<br>\n",
    "Prints a dictionary {'a1':'a2', 'b1':'b2', 'c1':'c2'}"
   ]
  },
  {
   "cell_type": "code",
   "execution_count": 5,
   "id": "f53ca3aa",
   "metadata": {},
   "outputs": [
    {
     "name": "stdout",
     "output_type": "stream",
     "text": [
      "('a', 'b', 'c')\n",
      "{'a1': 'a2', 'b1': 'b2', 'c1': 'c2'}\n"
     ]
    }
   ],
   "source": [
    "def func(*args, **kwargs):\n",
    "    print(args)\n",
    "    print(kwargs)\n",
    "func('a', 'b', 'c', a1='a2', b1='b2', c1='c2')"
   ]
  },
  {
   "cell_type": "code",
   "execution_count": 6,
   "id": "ee17df23",
   "metadata": {},
   "outputs": [
    {
     "name": "stdout",
     "output_type": "stream",
     "text": [
      "(['CS201', 'CS203'], {'name': 'Hridyanshu', 'branch': 'CSE'})\n",
      "{}\n",
      "('CS201', 'CS203')\n",
      "{'name': 'Hridyanshu', 'branch': 'CSE'}\n"
     ]
    }
   ],
   "source": [
    "course=[\"CS201\", \"CS203\"]\n",
    "dictVar={'name':'Hridyanshu', 'branch':'CSE'}\n",
    "func(course, dictVar)\n",
    "func(*course, **dictVar)"
   ]
  },
  {
   "cell_type": "code",
   "execution_count": 7,
   "id": "054029aa",
   "metadata": {},
   "outputs": [
    {
     "name": "stdout",
     "output_type": "stream",
     "text": [
      "function 1\n",
      "function 2\n"
     ]
    }
   ],
   "source": [
    "print(\"function 1\")\n",
    "\"\"\"Tells what that part of the function is supposed to do\"\"\"\n",
    "#Doc string\n",
    "print(\"function 2\")"
   ]
  }
 ],
 "metadata": {
  "kernelspec": {
   "display_name": "Python 3",
   "language": "python",
   "name": "python3"
  },
  "language_info": {
   "codemirror_mode": {
    "name": "ipython",
    "version": 3
   },
   "file_extension": ".py",
   "mimetype": "text/x-python",
   "name": "python",
   "nbconvert_exporter": "python",
   "pygments_lexer": "ipython3",
   "version": "3.8.8"
  }
 },
 "nbformat": 4,
 "nbformat_minor": 5
}
