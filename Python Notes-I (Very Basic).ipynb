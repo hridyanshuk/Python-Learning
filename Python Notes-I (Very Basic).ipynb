{
 "cells": [
  {
   "cell_type": "markdown",
   "id": "970d0cad",
   "metadata": {},
   "source": [
    "---\n",
    "# Notes\n",
    "---\n",
    "\n",
    "## String manipulation"
   ]
  },
  {
   "cell_type": "code",
   "execution_count": 1,
   "id": "be1ed549",
   "metadata": {},
   "outputs": [
    {
     "name": "stdout",
     "output_type": "stream",
     "text": [
      "Hello world\n"
     ]
    }
   ],
   "source": [
    "message=\"Hello world\"\n",
    "print(message)"
   ]
  },
  {
   "cell_type": "code",
   "execution_count": 2,
   "id": "09101399",
   "metadata": {
    "scrolled": true
   },
   "outputs": [
    {
     "name": "stdout",
     "output_type": "stream",
     "text": [
      "11\n",
      "H\n",
      "w\n"
     ]
    }
   ],
   "source": [
    "print(len(message))\n",
    "print(message[0])\n",
    "print(message[6])"
   ]
  },
  {
   "cell_type": "markdown",
   "id": "7047365e",
   "metadata": {},
   "source": [
    "---\n",
    "n is not inclusive"
   ]
  },
  {
   "cell_type": "code",
   "execution_count": 3,
   "id": "5f17d4a8",
   "metadata": {
    "scrolled": true
   },
   "outputs": [
    {
     "name": "stdout",
     "output_type": "stream",
     "text": [
      "Hello w\n",
      "orld\n"
     ]
    }
   ],
   "source": [
    "n=7\n",
    "print(message[0:n])\n",
    "print(message[n:])"
   ]
  },
  {
   "cell_type": "markdown",
   "id": "8fa45f5b",
   "metadata": {},
   "source": [
    "---\n",
    "<b>method</b> : A function which belongs to an object"
   ]
  },
  {
   "cell_type": "code",
   "execution_count": 4,
   "id": "fdda9b0a",
   "metadata": {},
   "outputs": [
    {
     "name": "stdout",
     "output_type": "stream",
     "text": [
      "hello world\n",
      "HELLO WORLD\n",
      "Hello world\n"
     ]
    }
   ],
   "source": [
    "print(message.lower())\n",
    "print(message.upper())\n",
    "print(message)"
   ]
  },
  {
   "cell_type": "code",
   "execution_count": 5,
   "id": "a5b1c7ae",
   "metadata": {},
   "outputs": [
    {
     "name": "stdout",
     "output_type": "stream",
     "text": [
      "1\n",
      "1\n",
      "3\n"
     ]
    }
   ],
   "source": [
    "print(message.count('Hello'))\n",
    "print(message.count(\"ello\"))\n",
    "print(message.count(\"l\"))"
   ]
  },
  {
   "cell_type": "code",
   "execution_count": 6,
   "id": "565de996",
   "metadata": {},
   "outputs": [
    {
     "name": "stdout",
     "output_type": "stream",
     "text": [
      "6\n"
     ]
    }
   ],
   "source": [
    "print(message.find('world'))"
   ]
  },
  {
   "cell_type": "markdown",
   "id": "f8969417",
   "metadata": {},
   "source": [
    "---\n",
    "    \n",
    "    message.replace(\"To_be_replaced\",\"Will_replace\")\n",
    "Will return a string with the replacements"
   ]
  },
  {
   "cell_type": "code",
   "execution_count": 7,
   "id": "aa6ddf91",
   "metadata": {},
   "outputs": [
    {
     "name": "stdout",
     "output_type": "stream",
     "text": [
      "Hello world\n"
     ]
    }
   ],
   "source": [
    "message.replace(\"Hello\",\"Hola\")\n",
    "print(message)"
   ]
  },
  {
   "cell_type": "code",
   "execution_count": 8,
   "id": "fd859d40",
   "metadata": {},
   "outputs": [
    {
     "name": "stdout",
     "output_type": "stream",
     "text": [
      "Hola world\n",
      "Hello world\n",
      "Hola world\n"
     ]
    }
   ],
   "source": [
    "new_message=message.replace(\"Hello\",\"Hola\")\n",
    "print(new_message)\n",
    "print(message)\n",
    "message=message.replace(\"Hello\",\"Hola\")\n",
    "print(message)"
   ]
  },
  {
   "cell_type": "code",
   "execution_count": 9,
   "id": "c8afab67",
   "metadata": {},
   "outputs": [
    {
     "name": "stdout",
     "output_type": "stream",
     "text": [
      "Hola Hridyanshu\n"
     ]
    }
   ],
   "source": [
    "greeting=\"Hola\"\n",
    "name=\"Hridyanshu\"\n",
    "message=greeting+\" \"+name\n",
    "print(message)"
   ]
  },
  {
   "cell_type": "code",
   "execution_count": 10,
   "id": "05b91547",
   "metadata": {},
   "outputs": [
    {
     "name": "stdout",
     "output_type": "stream",
     "text": [
      "Hola, Hridyanshu. Welcome!\n"
     ]
    }
   ],
   "source": [
    "message=\"{}, {}. Welcome!\".format(greeting,name)\n",
    "print(message)"
   ]
  },
  {
   "cell_type": "code",
   "execution_count": 11,
   "id": "0d7e405c",
   "metadata": {},
   "outputs": [
    {
     "name": "stdout",
     "output_type": "stream",
     "text": [
      "Hola, HRIDYANSHU, Welcome!\n"
     ]
    }
   ],
   "source": [
    "message=f'{greeting}, {name.upper()}, Welcome!'\n",
    "print(message)"
   ]
  },
  {
   "cell_type": "markdown",
   "id": "c9e6f646",
   "metadata": {},
   "source": [
    "---\n",
    "\n",
    "    print(dir(name))\n",
    "Will print all the attributes and methods available"
   ]
  },
  {
   "cell_type": "code",
   "execution_count": 12,
   "id": "3f854860",
   "metadata": {},
   "outputs": [
    {
     "name": "stdout",
     "output_type": "stream",
     "text": [
      "['__add__', '__class__', '__contains__', '__delattr__', '__dir__', '__doc__', '__eq__', '__format__', '__ge__', '__getattribute__', '__getitem__', '__getnewargs__', '__gt__', '__hash__', '__init__', '__init_subclass__', '__iter__', '__le__', '__len__', '__lt__', '__mod__', '__mul__', '__ne__', '__new__', '__reduce__', '__reduce_ex__', '__repr__', '__rmod__', '__rmul__', '__setattr__', '__sizeof__', '__str__', '__subclasshook__', 'capitalize', 'casefold', 'center', 'count', 'encode', 'endswith', 'expandtabs', 'find', 'format', 'format_map', 'index', 'isalnum', 'isalpha', 'isascii', 'isdecimal', 'isdigit', 'isidentifier', 'islower', 'isnumeric', 'isprintable', 'isspace', 'istitle', 'isupper', 'join', 'ljust', 'lower', 'lstrip', 'maketrans', 'partition', 'replace', 'rfind', 'rindex', 'rjust', 'rpartition', 'rsplit', 'rstrip', 'split', 'splitlines', 'startswith', 'strip', 'swapcase', 'title', 'translate', 'upper', 'zfill']\n"
     ]
    }
   ],
   "source": [
    "print(dir(name))"
   ]
  },
  {
   "cell_type": "markdown",
   "id": "ffa60ec4",
   "metadata": {},
   "source": [
    "---\n",
    "For help enter\n",
    "    \n",
    "    print(help(Class_name))\n",
    "(not variable name)"
   ]
  },
  {
   "cell_type": "code",
   "execution_count": 13,
   "id": "a4a68460",
   "metadata": {},
   "outputs": [
    {
     "name": "stdout",
     "output_type": "stream",
     "text": [
      "Help on class str in module builtins:\n",
      "\n",
      "class str(object)\n",
      " |  str(object='') -> str\n",
      " |  str(bytes_or_buffer[, encoding[, errors]]) -> str\n",
      " |  \n",
      " |  Create a new string object from the given object. If encoding or\n",
      " |  errors is specified, then the object must expose a data buffer\n",
      " |  that will be decoded using the given encoding and error handler.\n",
      " |  Otherwise, returns the result of object.__str__() (if defined)\n",
      " |  or repr(object).\n",
      " |  encoding defaults to sys.getdefaultencoding().\n",
      " |  errors defaults to 'strict'.\n",
      " |  \n",
      " |  Methods defined here:\n",
      " |  \n",
      " |  __add__(self, value, /)\n",
      " |      Return self+value.\n",
      " |  \n",
      " |  __contains__(self, key, /)\n",
      " |      Return key in self.\n",
      " |  \n",
      " |  __eq__(self, value, /)\n",
      " |      Return self==value.\n",
      " |  \n",
      " |  __format__(self, format_spec, /)\n",
      " |      Return a formatted version of the string as described by format_spec.\n",
      " |  \n",
      " |  __ge__(self, value, /)\n",
      " |      Return self>=value.\n",
      " |  \n",
      " |  __getattribute__(self, name, /)\n",
      " |      Return getattr(self, name).\n",
      " |  \n",
      " |  __getitem__(self, key, /)\n",
      " |      Return self[key].\n",
      " |  \n",
      " |  __getnewargs__(...)\n",
      " |  \n",
      " |  __gt__(self, value, /)\n",
      " |      Return self>value.\n",
      " |  \n",
      " |  __hash__(self, /)\n",
      " |      Return hash(self).\n",
      " |  \n",
      " |  __iter__(self, /)\n",
      " |      Implement iter(self).\n",
      " |  \n",
      " |  __le__(self, value, /)\n",
      " |      Return self<=value.\n",
      " |  \n",
      " |  __len__(self, /)\n",
      " |      Return len(self).\n",
      " |  \n",
      " |  __lt__(self, value, /)\n",
      " |      Return self<value.\n",
      " |  \n",
      " |  __mod__(self, value, /)\n",
      " |      Return self%value.\n",
      " |  \n",
      " |  __mul__(self, value, /)\n",
      " |      Return self*value.\n",
      " |  \n",
      " |  __ne__(self, value, /)\n",
      " |      Return self!=value.\n",
      " |  \n",
      " |  __repr__(self, /)\n",
      " |      Return repr(self).\n",
      " |  \n",
      " |  __rmod__(self, value, /)\n",
      " |      Return value%self.\n",
      " |  \n",
      " |  __rmul__(self, value, /)\n",
      " |      Return value*self.\n",
      " |  \n",
      " |  __sizeof__(self, /)\n",
      " |      Return the size of the string in memory, in bytes.\n",
      " |  \n",
      " |  __str__(self, /)\n",
      " |      Return str(self).\n",
      " |  \n",
      " |  capitalize(self, /)\n",
      " |      Return a capitalized version of the string.\n",
      " |      \n",
      " |      More specifically, make the first character have upper case and the rest lower\n",
      " |      case.\n",
      " |  \n",
      " |  casefold(self, /)\n",
      " |      Return a version of the string suitable for caseless comparisons.\n",
      " |  \n",
      " |  center(self, width, fillchar=' ', /)\n",
      " |      Return a centered string of length width.\n",
      " |      \n",
      " |      Padding is done using the specified fill character (default is a space).\n",
      " |  \n",
      " |  count(...)\n",
      " |      S.count(sub[, start[, end]]) -> int\n",
      " |      \n",
      " |      Return the number of non-overlapping occurrences of substring sub in\n",
      " |      string S[start:end].  Optional arguments start and end are\n",
      " |      interpreted as in slice notation.\n",
      " |  \n",
      " |  encode(self, /, encoding='utf-8', errors='strict')\n",
      " |      Encode the string using the codec registered for encoding.\n",
      " |      \n",
      " |      encoding\n",
      " |        The encoding in which to encode the string.\n",
      " |      errors\n",
      " |        The error handling scheme to use for encoding errors.\n",
      " |        The default is 'strict' meaning that encoding errors raise a\n",
      " |        UnicodeEncodeError.  Other possible values are 'ignore', 'replace' and\n",
      " |        'xmlcharrefreplace' as well as any other name registered with\n",
      " |        codecs.register_error that can handle UnicodeEncodeErrors.\n",
      " |  \n",
      " |  endswith(...)\n",
      " |      S.endswith(suffix[, start[, end]]) -> bool\n",
      " |      \n",
      " |      Return True if S ends with the specified suffix, False otherwise.\n",
      " |      With optional start, test S beginning at that position.\n",
      " |      With optional end, stop comparing S at that position.\n",
      " |      suffix can also be a tuple of strings to try.\n",
      " |  \n",
      " |  expandtabs(self, /, tabsize=8)\n",
      " |      Return a copy where all tab characters are expanded using spaces.\n",
      " |      \n",
      " |      If tabsize is not given, a tab size of 8 characters is assumed.\n",
      " |  \n",
      " |  find(...)\n",
      " |      S.find(sub[, start[, end]]) -> int\n",
      " |      \n",
      " |      Return the lowest index in S where substring sub is found,\n",
      " |      such that sub is contained within S[start:end].  Optional\n",
      " |      arguments start and end are interpreted as in slice notation.\n",
      " |      \n",
      " |      Return -1 on failure.\n",
      " |  \n",
      " |  format(...)\n",
      " |      S.format(*args, **kwargs) -> str\n",
      " |      \n",
      " |      Return a formatted version of S, using substitutions from args and kwargs.\n",
      " |      The substitutions are identified by braces ('{' and '}').\n",
      " |  \n",
      " |  format_map(...)\n",
      " |      S.format_map(mapping) -> str\n",
      " |      \n",
      " |      Return a formatted version of S, using substitutions from mapping.\n",
      " |      The substitutions are identified by braces ('{' and '}').\n",
      " |  \n",
      " |  index(...)\n",
      " |      S.index(sub[, start[, end]]) -> int\n",
      " |      \n",
      " |      Return the lowest index in S where substring sub is found,\n",
      " |      such that sub is contained within S[start:end].  Optional\n",
      " |      arguments start and end are interpreted as in slice notation.\n",
      " |      \n",
      " |      Raises ValueError when the substring is not found.\n",
      " |  \n",
      " |  isalnum(self, /)\n",
      " |      Return True if the string is an alpha-numeric string, False otherwise.\n",
      " |      \n",
      " |      A string is alpha-numeric if all characters in the string are alpha-numeric and\n",
      " |      there is at least one character in the string.\n",
      " |  \n",
      " |  isalpha(self, /)\n",
      " |      Return True if the string is an alphabetic string, False otherwise.\n",
      " |      \n",
      " |      A string is alphabetic if all characters in the string are alphabetic and there\n",
      " |      is at least one character in the string.\n",
      " |  \n",
      " |  isascii(self, /)\n",
      " |      Return True if all characters in the string are ASCII, False otherwise.\n",
      " |      \n",
      " |      ASCII characters have code points in the range U+0000-U+007F.\n",
      " |      Empty string is ASCII too.\n",
      " |  \n",
      " |  isdecimal(self, /)\n",
      " |      Return True if the string is a decimal string, False otherwise.\n",
      " |      \n",
      " |      A string is a decimal string if all characters in the string are decimal and\n",
      " |      there is at least one character in the string.\n",
      " |  \n",
      " |  isdigit(self, /)\n",
      " |      Return True if the string is a digit string, False otherwise.\n",
      " |      \n",
      " |      A string is a digit string if all characters in the string are digits and there\n",
      " |      is at least one character in the string.\n",
      " |  \n",
      " |  isidentifier(self, /)\n",
      " |      Return True if the string is a valid Python identifier, False otherwise.\n",
      " |      \n",
      " |      Call keyword.iskeyword(s) to test whether string s is a reserved identifier,\n",
      " |      such as \"def\" or \"class\".\n",
      " |  \n",
      " |  islower(self, /)\n",
      " |      Return True if the string is a lowercase string, False otherwise.\n",
      " |      \n",
      " |      A string is lowercase if all cased characters in the string are lowercase and\n",
      " |      there is at least one cased character in the string.\n",
      " |  \n",
      " |  isnumeric(self, /)\n",
      " |      Return True if the string is a numeric string, False otherwise.\n",
      " |      \n",
      " |      A string is numeric if all characters in the string are numeric and there is at\n",
      " |      least one character in the string.\n",
      " |  \n",
      " |  isprintable(self, /)\n",
      " |      Return True if the string is printable, False otherwise.\n",
      " |      \n",
      " |      A string is printable if all of its characters are considered printable in\n",
      " |      repr() or if it is empty.\n",
      " |  \n",
      " |  isspace(self, /)\n",
      " |      Return True if the string is a whitespace string, False otherwise.\n",
      " |      \n",
      " |      A string is whitespace if all characters in the string are whitespace and there\n",
      " |      is at least one character in the string.\n",
      " |  \n",
      " |  istitle(self, /)\n",
      " |      Return True if the string is a title-cased string, False otherwise.\n",
      " |      \n",
      " |      In a title-cased string, upper- and title-case characters may only\n",
      " |      follow uncased characters and lowercase characters only cased ones.\n",
      " |  \n",
      " |  isupper(self, /)\n",
      " |      Return True if the string is an uppercase string, False otherwise.\n",
      " |      \n",
      " |      A string is uppercase if all cased characters in the string are uppercase and\n",
      " |      there is at least one cased character in the string.\n",
      " |  \n",
      " |  join(self, iterable, /)\n",
      " |      Concatenate any number of strings.\n",
      " |      \n",
      " |      The string whose method is called is inserted in between each given string.\n",
      " |      The result is returned as a new string.\n",
      " |      \n",
      " |      Example: '.'.join(['ab', 'pq', 'rs']) -> 'ab.pq.rs'\n",
      " |  \n",
      " |  ljust(self, width, fillchar=' ', /)\n",
      " |      Return a left-justified string of length width.\n",
      " |      \n",
      " |      Padding is done using the specified fill character (default is a space).\n",
      " |  \n",
      " |  lower(self, /)\n",
      " |      Return a copy of the string converted to lowercase.\n",
      " |  \n",
      " |  lstrip(self, chars=None, /)\n",
      " |      Return a copy of the string with leading whitespace removed.\n",
      " |      \n",
      " |      If chars is given and not None, remove characters in chars instead.\n",
      " |  \n",
      " |  partition(self, sep, /)\n",
      " |      Partition the string into three parts using the given separator.\n",
      " |      \n",
      " |      This will search for the separator in the string.  If the separator is found,\n",
      " |      returns a 3-tuple containing the part before the separator, the separator\n",
      " |      itself, and the part after it.\n",
      " |      \n",
      " |      If the separator is not found, returns a 3-tuple containing the original string\n",
      " |      and two empty strings.\n",
      " |  \n",
      " |  replace(self, old, new, count=-1, /)\n",
      " |      Return a copy with all occurrences of substring old replaced by new.\n",
      " |      \n",
      " |        count\n",
      " |          Maximum number of occurrences to replace.\n",
      " |          -1 (the default value) means replace all occurrences.\n",
      " |      \n",
      " |      If the optional argument count is given, only the first count occurrences are\n",
      " |      replaced.\n",
      " |  \n",
      " |  rfind(...)\n",
      " |      S.rfind(sub[, start[, end]]) -> int\n",
      " |      \n",
      " |      Return the highest index in S where substring sub is found,\n",
      " |      such that sub is contained within S[start:end].  Optional\n",
      " |      arguments start and end are interpreted as in slice notation.\n",
      " |      \n",
      " |      Return -1 on failure.\n",
      " |  \n",
      " |  rindex(...)\n",
      " |      S.rindex(sub[, start[, end]]) -> int\n",
      " |      \n",
      " |      Return the highest index in S where substring sub is found,\n",
      " |      such that sub is contained within S[start:end].  Optional\n",
      " |      arguments start and end are interpreted as in slice notation.\n",
      " |      \n",
      " |      Raises ValueError when the substring is not found.\n",
      " |  \n",
      " |  rjust(self, width, fillchar=' ', /)\n",
      " |      Return a right-justified string of length width.\n",
      " |      \n",
      " |      Padding is done using the specified fill character (default is a space).\n",
      " |  \n",
      " |  rpartition(self, sep, /)\n",
      " |      Partition the string into three parts using the given separator.\n",
      " |      \n",
      " |      This will search for the separator in the string, starting at the end. If\n",
      " |      the separator is found, returns a 3-tuple containing the part before the\n",
      " |      separator, the separator itself, and the part after it.\n",
      " |      \n",
      " |      If the separator is not found, returns a 3-tuple containing two empty strings\n",
      " |      and the original string.\n",
      " |  \n",
      " |  rsplit(self, /, sep=None, maxsplit=-1)\n",
      " |      Return a list of the words in the string, using sep as the delimiter string.\n",
      " |      \n",
      " |        sep\n",
      " |          The delimiter according which to split the string.\n",
      " |          None (the default value) means split according to any whitespace,\n",
      " |          and discard empty strings from the result.\n",
      " |        maxsplit\n",
      " |          Maximum number of splits to do.\n",
      " |          -1 (the default value) means no limit.\n",
      " |      \n",
      " |      Splits are done starting at the end of the string and working to the front.\n",
      " |  \n",
      " |  rstrip(self, chars=None, /)\n",
      " |      Return a copy of the string with trailing whitespace removed.\n",
      " |      \n",
      " |      If chars is given and not None, remove characters in chars instead.\n",
      " |  \n",
      " |  split(self, /, sep=None, maxsplit=-1)\n",
      " |      Return a list of the words in the string, using sep as the delimiter string.\n",
      " |      \n",
      " |      sep\n",
      " |        The delimiter according which to split the string.\n",
      " |        None (the default value) means split according to any whitespace,\n",
      " |        and discard empty strings from the result.\n",
      " |      maxsplit\n",
      " |        Maximum number of splits to do.\n",
      " |        -1 (the default value) means no limit.\n",
      " |  \n",
      " |  splitlines(self, /, keepends=False)\n",
      " |      Return a list of the lines in the string, breaking at line boundaries.\n",
      " |      \n",
      " |      Line breaks are not included in the resulting list unless keepends is given and\n",
      " |      true.\n",
      " |  \n",
      " |  startswith(...)\n",
      " |      S.startswith(prefix[, start[, end]]) -> bool\n",
      " |      \n",
      " |      Return True if S starts with the specified prefix, False otherwise.\n",
      " |      With optional start, test S beginning at that position.\n",
      " |      With optional end, stop comparing S at that position.\n",
      " |      prefix can also be a tuple of strings to try.\n",
      " |  \n",
      " |  strip(self, chars=None, /)\n",
      " |      Return a copy of the string with leading and trailing whitespace removed.\n",
      " |      \n",
      " |      If chars is given and not None, remove characters in chars instead.\n",
      " |  \n",
      " |  swapcase(self, /)\n",
      " |      Convert uppercase characters to lowercase and lowercase characters to uppercase.\n",
      " |  \n",
      " |  title(self, /)\n",
      " |      Return a version of the string where each word is titlecased.\n",
      " |      \n",
      " |      More specifically, words start with uppercased characters and all remaining\n",
      " |      cased characters have lower case.\n",
      " |  \n",
      " |  translate(self, table, /)\n",
      " |      Replace each character in the string using the given translation table.\n",
      " |      \n",
      " |        table\n",
      " |          Translation table, which must be a mapping of Unicode ordinals to\n",
      " |          Unicode ordinals, strings, or None.\n",
      " |      \n",
      " |      The table must implement lookup/indexing via __getitem__, for instance a\n",
      " |      dictionary or list.  If this operation raises LookupError, the character is\n",
      " |      left untouched.  Characters mapped to None are deleted.\n",
      " |  \n",
      " |  upper(self, /)\n",
      " |      Return a copy of the string converted to uppercase.\n",
      " |  \n",
      " |  zfill(self, width, /)\n",
      " |      Pad a numeric string with zeros on the left, to fill a field of the given width.\n",
      " |      \n",
      " |      The string is never truncated.\n",
      " |  \n",
      " |  ----------------------------------------------------------------------\n",
      " |  Static methods defined here:\n",
      " |  \n",
      " |  __new__(*args, **kwargs) from builtins.type\n",
      " |      Create and return a new object.  See help(type) for accurate signature.\n",
      " |  \n",
      " |  maketrans(...)\n",
      " |      Return a translation table usable for str.translate().\n",
      " |      \n",
      " |      If there is only one argument, it must be a dictionary mapping Unicode\n",
      " |      ordinals (integers) or characters to Unicode ordinals, strings or None.\n",
      " |      Character keys will be then converted to ordinals.\n",
      " |      If there are two arguments, they must be strings of equal length, and\n",
      " |      in the resulting dictionary, each character in x will be mapped to the\n",
      " |      character at the same position in y. If there is a third argument, it\n",
      " |      must be a string, whose characters will be mapped to None in the result.\n",
      "\n",
      "None\n"
     ]
    }
   ],
   "source": [
    "print(help(str))"
   ]
  },
  {
   "cell_type": "markdown",
   "id": "9c7f6f5d",
   "metadata": {},
   "source": [
    "---\n",
    "## Working with numeric data\n",
    "\n",
    "---\n",
    "\n",
    "Some Operators<br>\n",
    "** -> exponent<br>\n",
    "// -> floor division"
   ]
  },
  {
   "cell_type": "code",
   "execution_count": 14,
   "id": "7d0dc41e",
   "metadata": {},
   "outputs": [
    {
     "name": "stdout",
     "output_type": "stream",
     "text": [
      "9\n",
      "1\n"
     ]
    }
   ],
   "source": [
    "print(3**2) #3^2\n",
    "print(3//2) #3 floor division by 2"
   ]
  },
  {
   "cell_type": "markdown",
   "id": "aae8c92e",
   "metadata": {},
   "source": [
    "---\n",
    "### Some math functions\n",
    "\n",
    "    abs(num)\n",
    "absolute value of number\n",
    "\n",
    "    round(num)\n",
    "rounds a number\n",
    "\n",
    "    round(num,n)\n",
    "rounds till nth digit after decimal"
   ]
  },
  {
   "cell_type": "code",
   "execution_count": 15,
   "id": "270bfd82",
   "metadata": {},
   "outputs": [
    {
     "name": "stdout",
     "output_type": "stream",
     "text": [
      "5\n",
      "6\n",
      "5.68\n"
     ]
    }
   ],
   "source": [
    "print(abs(-5))\n",
    "print(round(5.6794))\n",
    "print(round(5.6794, 2))"
   ]
  },
  {
   "cell_type": "markdown",
   "id": "caba8ce7",
   "metadata": {},
   "source": [
    "---\n",
    "If numbers are in string form<br>\n",
    "Casting:\n",
    "\n",
    "    num1='100'\n",
    "    num1=int(num1)"
   ]
  },
  {
   "cell_type": "code",
   "execution_count": 16,
   "id": "6b74e3e5",
   "metadata": {},
   "outputs": [
    {
     "name": "stdout",
     "output_type": "stream",
     "text": [
      "100150\n",
      "250\n"
     ]
    }
   ],
   "source": [
    "num1='100'\n",
    "num2='150'\n",
    "print(num1+num2)\n",
    "num1=int(num1)\n",
    "num2=int(num2)\n",
    "print(num1+num2)"
   ]
  },
  {
   "cell_type": "markdown",
   "id": "f05afdb8",
   "metadata": {},
   "source": [
    "---\n",
    "## Lists, Tuples and Sets\n",
    "---\n",
    "\n",
    "<b>Lists and Tuples</b> allow to work with sequential data<br>\n",
    "<b>Sets</b> unordered collection of values of no duplicates\n"
   ]
  },
  {
   "cell_type": "code",
   "execution_count": 17,
   "id": "cb94bd0c",
   "metadata": {},
   "outputs": [
    {
     "name": "stdout",
     "output_type": "stream",
     "text": [
      "5\n",
      "CS201\n",
      "CS204\n"
     ]
    }
   ],
   "source": [
    "course=[\"CS201\", \"CS221\", \"CS242\", \"CS203\", \"CS204\"]\n",
    "print(len(course))\n",
    "print(course[0])\n",
    "print(course[-1])"
   ]
  },
  {
   "cell_type": "markdown",
   "id": "6f9456ed",
   "metadata": {},
   "source": [
    "---\n",
    "### Slicing"
   ]
  },
  {
   "cell_type": "code",
   "execution_count": 18,
   "id": "6bc0c3e7",
   "metadata": {},
   "outputs": [
    {
     "name": "stdout",
     "output_type": "stream",
     "text": [
      "['CS201', 'CS221']\n",
      "['CS242', 'CS203', 'CS204']\n"
     ]
    }
   ],
   "source": [
    "print(course[0:2]) # Does NOT include the 2th index\n",
    "print(course[2:])  # No second value after colon means up to the end of array"
   ]
  },
  {
   "cell_type": "code",
   "execution_count": 19,
   "id": "f32e6520",
   "metadata": {},
   "outputs": [
    {
     "name": "stdout",
     "output_type": "stream",
     "text": [
      "['CS201', 'CS221', 'CS242', 'CS203', 'CS204', 'MA222']\n",
      "['CS201', 'CS221', 'CS242', 'CS203', 'CS204', 'MA225', 'MA222']\n"
     ]
    }
   ],
   "source": [
    "course=[\"CS201\", \"CS221\", \"CS242\", \"CS203\", \"CS204\"]\n",
    "course.append(\"MA222\")\n",
    "print(course)\n",
    "course.insert(-1, \"MA225\") # Inserts in that position and shift the values forward\n",
    "print(course)"
   ]
  },
  {
   "cell_type": "markdown",
   "id": "a132cfdb",
   "metadata": {},
   "source": [
    "---\n",
    "### Adding values of aother list to our list\n",
    "\n",
    "insert(index,anotherList) : Does not work\n",
    "extend(anotherList)       : Works\n",
    "append(anotherList)       : Does not work\n",
    "        "
   ]
  },
  {
   "cell_type": "code",
   "execution_count": 20,
   "id": "b18284de",
   "metadata": {},
   "outputs": [
    {
     "name": "stdout",
     "output_type": "stream",
     "text": [
      "[['MA222', 'MA225'], 'CS201', 'CS221', 'CS242', 'CS203', 'CS204']\n",
      "['CS201', 'CS221', 'CS242', 'CS203', 'CS204', ['MA222', 'MA225']]\n",
      "['CS201', 'CS221', 'CS242', 'CS203', 'CS204', 'MA222', 'MA225']\n"
     ]
    }
   ],
   "source": [
    "course=[\"CS201\", \"CS221\", \"CS242\", \"CS203\", \"CS204\"]\n",
    "anotherList=[\"MA222\", \"MA225\"]\n",
    "\n",
    "course.insert(0,anotherList) #Adds The list as an element\n",
    "print(course)\n",
    "\n",
    "course=[\"CS201\", \"CS221\", \"CS242\", \"CS203\", \"CS204\"]\n",
    "course.append(anotherList) #Again adds The list as an element at the end\n",
    "print(course)\n",
    "\n",
    "course=[\"CS201\", \"CS221\", \"CS242\", \"CS203\", \"CS204\"]\n",
    "course.extend(anotherList)\n",
    "print(course);"
   ]
  },
  {
   "cell_type": "markdown",
   "id": "ed54a2d5",
   "metadata": {},
   "source": [
    "---\n",
    "### Removing values\n",
    "\n",
    "remove(elmnt) - Removes \"elmnt\" from the list<br>\n",
    "pop() - Removes the last value of our list"
   ]
  },
  {
   "cell_type": "code",
   "execution_count": 21,
   "id": "64600e2a",
   "metadata": {},
   "outputs": [
    {
     "name": "stdout",
     "output_type": "stream",
     "text": [
      "['CS201', 'CS221', 'CS242', 'CS203', 'CS204', 'MA222', 'MA225']\n",
      "['CS201', 'CS221', 'CS203', 'CS204', 'MA222', 'MA225']\n",
      "MA225\n"
     ]
    }
   ],
   "source": [
    "course=[\"CS201\", \"CS221\", \"CS242\", \"CS203\", \"CS204\", \"MA222\", \"MA225\"]\n",
    "print(course)\n",
    "course.remove(\"CS242\")\n",
    "print(course) #Removed \"CS242\"\n",
    "popped=course.pop() #Removed the last element\n",
    "print(popped)"
   ]
  },
  {
   "cell_type": "markdown",
   "id": "3a08704a",
   "metadata": {},
   "source": [
    "### Sorting\n",
    "reverse() - Reverse order sorting<br>\n",
    "sort() - Lexicographic order sorting<br>\n",
    "sort(reverse=true) - Reverse ordering<br>\n",
    "\n",
    "sorted(listVar) - Returns a sorted version of the list<br>"
   ]
  },
  {
   "cell_type": "code",
   "execution_count": 22,
   "id": "d2caf032",
   "metadata": {},
   "outputs": [
    {
     "name": "stdout",
     "output_type": "stream",
     "text": [
      "['CS201', 'CS203', 'CS204', 'CS221', 'CS242', 'MA222', 'MA225']\n",
      "[7, 6, 5, 4, 3, 2, 1]\n"
     ]
    }
   ],
   "source": [
    "course=[\"CS201\", \"CS221\", \"CS242\", \"CS203\", \"CS204\", \"MA222\", \"MA225\"]\n",
    "courseSorted=sorted(course)\n",
    "print(courseSorted)\n",
    "num=[1,2,3,4,5,6,7]\n",
    "num.sort(reverse=True) # Not \"true\", only \"True\"\n",
    "print(num)"
   ]
  },
  {
   "cell_type": "markdown",
   "id": "65503a04",
   "metadata": {},
   "source": [
    "### Minimum, Maximum, Sum\n",
    "min(listVar)<br>\n",
    "max(listVar)<br>\n",
    "sum(listVar)<br>"
   ]
  },
  {
   "cell_type": "code",
   "execution_count": 23,
   "id": "6dc6520e",
   "metadata": {},
   "outputs": [
    {
     "name": "stdout",
     "output_type": "stream",
     "text": [
      "1\n",
      "9\n",
      "45\n"
     ]
    }
   ],
   "source": [
    "num=[1,2,3,4,5,6,7,8,9]\n",
    "print(min(num))\n",
    "print(max(num))\n",
    "print(sum(num))"
   ]
  },
  {
   "cell_type": "markdown",
   "id": "95d52822",
   "metadata": {},
   "source": [
    "### Index, Check if element exists etc.\n",
    "listVar.index(\"elmnt\")<br>\n",
    "'elmnt' in listVar - Will return True or False"
   ]
  },
  {
   "cell_type": "code",
   "execution_count": 24,
   "id": "4f9ad22a",
   "metadata": {},
   "outputs": [
    {
     "name": "stdout",
     "output_type": "stream",
     "text": [
      "3\n",
      "False\n"
     ]
    }
   ],
   "source": [
    "num=[1,2,3,4,5,6,7,8,9]\n",
    "print(num.index(4))\n",
    "print(10 in num)"
   ]
  },
  {
   "cell_type": "markdown",
   "id": "4c04b14f",
   "metadata": {},
   "source": [
    "---\n",
    "## Loops\n",
    "---\n",
    "\n",
    "### for loop\n",
    "\n",
    "    for var in listVar:\n",
    "        code\n",
    "        code\n",
    "    \n",
    "for knowing which index you are on, use <b>enumerate</b> function\n",
    "    \n",
    "    for indexVar, var in enumerate(listVar):\n",
    "        code\n",
    "        code\n",
    "A second argument to enumerate <b>start = x</b> will start the index from 1 (It will give index the value x and increase it from there)\n",
    "\n",
    "    for indexVar, var in enumerate(listVar, start=x):\n",
    "        code\n",
    "        code"
   ]
  },
  {
   "cell_type": "code",
   "execution_count": 25,
   "id": "30b01015",
   "metadata": {},
   "outputs": [
    {
     "name": "stdout",
     "output_type": "stream",
     "text": [
      "CS201\n",
      "CS221\n",
      "CS242\n",
      "CS203\n",
      "CS204\n",
      "MA222\n",
      "MA225\n",
      "\n",
      "The following is with enumerate. Index starts from 0\n",
      "\n",
      "The index is \"0\" and value at \"0\" is CS201\n",
      "The index is \"1\" and value at \"1\" is CS221\n",
      "The index is \"2\" and value at \"2\" is CS242\n",
      "The index is \"3\" and value at \"3\" is CS203\n",
      "The index is \"4\" and value at \"4\" is CS204\n",
      "The index is \"5\" and value at \"5\" is MA222\n",
      "The index is \"6\" and value at \"6\" is MA225\n",
      "\n",
      "The following is with enumerate and start argument. Index starts from 3\n",
      "\n",
      "The index is \"3\" and value at \"3\" is CS201\n",
      "The index is \"4\" and value at \"4\" is CS221\n",
      "The index is \"5\" and value at \"5\" is CS242\n",
      "The index is \"6\" and value at \"6\" is CS203\n",
      "The index is \"7\" and value at \"7\" is CS204\n",
      "The index is \"8\" and value at \"8\" is MA222\n",
      "The index is \"9\" and value at \"9\" is MA225\n"
     ]
    }
   ],
   "source": [
    "course=[\"CS201\", \"CS221\", \"CS242\", \"CS203\", \"CS204\", \"MA222\", \"MA225\"]\n",
    "\n",
    "#for loop without index\n",
    "for var in course:\n",
    "    print(var)\n",
    "print(\"\\nThe following is with enumerate. Index starts from 0\\n\")\n",
    "\n",
    "#for loop with index\n",
    "for index, var in enumerate(course):\n",
    "    print(\"The index is \\\"{}\\\" and value at \\\"{}\\\" is {}\".format(index, index, var))\n",
    "\n",
    "print(\"\\nThe following is with enumerate and start argument. Index starts from 3\\n\")\n",
    "#for loop with index starting from 3\n",
    "for index, var in enumerate(course, start=3):\n",
    "    print(\"The index is \\\"{}\\\" and value at \\\"{}\\\" is {}\".format(index, index, var))"
   ]
  },
  {
   "cell_type": "markdown",
   "id": "2d90f8f1",
   "metadata": {},
   "source": [
    "### Convert list into string seperated by certain values\n",
    "\n",
    "join() method\n",
    "    \n",
    "    seperatorStrVar.join(listVar)"
   ]
  },
  {
   "cell_type": "code",
   "execution_count": 26,
   "id": "38019803",
   "metadata": {},
   "outputs": [
    {
     "name": "stdout",
     "output_type": "stream",
     "text": [
      "CS201, CS221, CS242, CS203, CS204, MA222, MA225\n",
      "CS201. CS221. CS242. CS203. CS204. MA222. MA225\n"
     ]
    }
   ],
   "source": [
    "course=[\"CS201\", \"CS221\", \"CS242\", \"CS203\", \"CS204\", \"MA222\", \"MA225\"]\n",
    "\n",
    "sep=\", \"\n",
    "stringVar=sep.join(course)\n",
    "print(stringVar)\n",
    "\n",
    "#Another method to do this\n",
    "stringVar='. '.join(course)\n",
    "print(stringVar)"
   ]
  },
  {
   "cell_type": "markdown",
   "id": "ae954dcd",
   "metadata": {},
   "source": [
    "### Turn a string to list\n",
    "split() method\n",
    "\n",
    "    stringVar.split(seperatorStrVar)"
   ]
  },
  {
   "cell_type": "code",
   "execution_count": 27,
   "id": "4e7ca031",
   "metadata": {},
   "outputs": [
    {
     "name": "stdout",
     "output_type": "stream",
     "text": [
      "CS201. CS221. CS242. CS203. CS204. MA222. MA225\n",
      "['CS201', 'CS221', 'CS242', 'CS203', 'CS204', 'MA222', 'MA225']\n",
      "['CS201', 'CS221', 'CS242', 'CS203', 'CS204', 'MA222', 'MA225']\n"
     ]
    }
   ],
   "source": [
    "print(stringVar)\n",
    "newList=stringVar.split(\". \")\n",
    "\n",
    "print(newList)\n",
    "stringVar=', '.join(newList)\n",
    "\n",
    "#Another method\n",
    "sep=', '\n",
    "newList=stringVar.split(sep)\n",
    "print(newList)"
   ]
  },
  {
   "cell_type": "markdown",
   "id": "713acbc0",
   "metadata": {},
   "source": [
    "---\n",
    "## Tuples\n",
    "---\n",
    "<b>Tuples</b> are <b>non-mutible</b> (modifiable).<br>\n",
    "<b>Lists</b> are mutible.\n",
    "\n",
    "---\n",
    "\n",
    "    tuple1=('a', 'b', 'c', 'd')\n",
    "    tuple2=tuple1;\n",
    "    \n",
    "    print(tuple1)\n",
    "    print(tuple2)\n",
    "    \n",
    "    #The following will give an error. Because tuples are non-mutible\n",
    "    tuple1[0]='e'\n",
    "---"
   ]
  },
  {
   "cell_type": "code",
   "execution_count": 28,
   "id": "3745bb37",
   "metadata": {},
   "outputs": [
    {
     "name": "stdout",
     "output_type": "stream",
     "text": [
      "['a', 'b', 'c', 'd']\n",
      "['a', 'b', 'c', 'd']\n",
      "['e', 'b', 'c', 'd']\n",
      "['e', 'b', 'c', 'd']\n",
      "('a', 'b', 'c', 'd')\n",
      "('a', 'b', 'c', 'd')\n"
     ]
    }
   ],
   "source": [
    "list1=['a', 'b', 'c', 'd']\n",
    "list2=list1\n",
    "\n",
    "print(list1)\n",
    "print(list2)\n",
    "    \n",
    "list1[0]='e'\n",
    "print(list1)\n",
    "print(list2)\n",
    "    \n",
    "#Will print the modified list for both list1 and list2\n",
    "\n",
    "tuple1=('a', 'b', 'c', 'd')\n",
    "tuple2=tuple1;\n",
    "\n",
    "print(tuple1)\n",
    "print(tuple2)"
   ]
  },
  {
   "cell_type": "markdown",
   "id": "663cb507",
   "metadata": {},
   "source": [
    "## Sets\n",
    "\n",
    "Unordered, used to remove duplicate values\n",
    "\n",
    "---\n",
    "    \n",
    "    setVar={'a', 'b', 'c'}\n",
    "    \n",
    "    print(setVar)\n",
    "    #Will print the values in random order\n",
    "    \n",
    "    print('b' in setVar)\n",
    "    #Same as lists\n",
    "---\n",
    "\n",
    "---\n",
    "\n",
    "    setVar1.intersection(setVar2)\n",
    "    setVar1.difference(setVar2)\n",
    "    setVar1.union(setVar2)\n",
    "---"
   ]
  },
  {
   "cell_type": "code",
   "execution_count": 29,
   "id": "c3a4c8dd",
   "metadata": {},
   "outputs": [],
   "source": [
    "setVar1={'a', 'b', 'c', 'd', 'e', 'g', 'h', 'i'}\n",
    "setVar2={'f', 'g', 'h', 'i', 'j', 'k', 'l', 'm'}"
   ]
  },
  {
   "cell_type": "code",
   "execution_count": 30,
   "id": "b87e552f",
   "metadata": {},
   "outputs": [
    {
     "name": "stdout",
     "output_type": "stream",
     "text": [
      "{'g', 'h', 'i'}\n",
      "{'b', 'e', 'c', 'd', 'a'}\n",
      "{'m', 'b', 'l', 'e', 'c', 'i', 'k', 'd', 'g', 'f', 'h', 'a', 'j'}\n"
     ]
    }
   ],
   "source": [
    "print(setVar1.intersection(setVar2))\n",
    "print(setVar1.difference(setVar2))\n",
    "print(setVar1.union(setVar2))"
   ]
  },
  {
   "cell_type": "markdown",
   "id": "87e5b3cb",
   "metadata": {},
   "source": [
    "---\n",
    "## To create empty Lists, Tuples or Sets\n",
    "---\n",
    "\n",
    "    emptyListVar=[]\n",
    "    emptyListVar=list()\n",
    "    \n",
    "    emptyTupleVar=()\n",
    "    emptyTupleVar=tuple()\n",
    "    \n",
    "    emptySetVar=set()\n",
    "    \n",
    "    #emptySetVar={} is wrong. It will create an empty Dictionary"
   ]
  },
  {
   "cell_type": "markdown",
   "id": "d6f00dbd",
   "metadata": {},
   "source": [
    "---\n",
    "## Dictionaries\n",
    "---\n",
    "\n",
    "Similar to hash maps\n",
    "\n",
    "    dictVar = {\"key1\": \"key value\", \"key2\":\"key value\"}"
   ]
  },
  {
   "cell_type": "code",
   "execution_count": 31,
   "id": "0c603ce7",
   "metadata": {},
   "outputs": [
    {
     "name": "stdout",
     "output_type": "stream",
     "text": [
      "{'name': 'Hridyanshu', 'year': 2, 'stream': 'Computer Science'}\n",
      "Hridyanshu\n",
      "2\n"
     ]
    }
   ],
   "source": [
    "dictVar={\"name\":\"Hridyanshu\", \"year\":2, \"stream\":\"Computer Science\"}\n",
    "print(dictVar)\n",
    "print(dictVar[\"name\"])\n",
    "print(dictVar[\"year\"])"
   ]
  },
  {
   "cell_type": "code",
   "execution_count": 32,
   "id": "1452c1b6",
   "metadata": {},
   "outputs": [
    {
     "name": "stdout",
     "output_type": "stream",
     "text": [
      "None\n",
      "Not Found or any other arg\n"
     ]
    }
   ],
   "source": [
    "print(dictVar.get('keyWhichDoesNotExist')) #Will return none\n",
    "print(dictVar.get(\"keyWhichDoesNotExist\", \"Not Found or any other arg\"))"
   ]
  },
  {
   "cell_type": "code",
   "execution_count": 33,
   "id": "3b97f0c8",
   "metadata": {},
   "outputs": [
    {
     "name": "stdout",
     "output_type": "stream",
     "text": [
      "newValueAdded\n"
     ]
    }
   ],
   "source": [
    "dictVar={\"name\":\"Hridyanshu\", \"year\":2, \"stream\":\"Computer Science\"}\n",
    "dictVar['newKey'] = \"newValueAdded\"\n",
    "print(dictVar.get('newKey'))"
   ]
  },
  {
   "cell_type": "markdown",
   "id": "82abc6b1",
   "metadata": {},
   "source": [
    "---\n",
    "### Adding and updating values in a dictionary\n",
    "---\n",
    "    \n",
    "    dictVar.update({}) #update takes a dictionary as an argument"
   ]
  },
  {
   "cell_type": "code",
   "execution_count": 34,
   "id": "16ba211c",
   "metadata": {},
   "outputs": [
    {
     "name": "stdout",
     "output_type": "stream",
     "text": [
      "{'name': 'Hridyanshu', 'year': 2, 'stream': 'CSE', 'newKey': 'newValueAdded', 'courses': ['CS201', 'CS221', 'CS242', 'CS203', 'CS204', 'MA222', 'MA225']}\n"
     ]
    }
   ],
   "source": [
    "dictVar.update({'stream':\"CSE\", 'courses':course})\n",
    "print(dictVar)"
   ]
  },
  {
   "cell_type": "markdown",
   "id": "e454a354",
   "metadata": {},
   "source": [
    "---\n",
    "### Deleting from dictionary\n",
    "---\n",
    "\n",
    "    del dictVar['key']\n",
    "    dictVar.pop('key') #deletes and returns the value"
   ]
  },
  {
   "cell_type": "code",
   "execution_count": 35,
   "id": "98c06372",
   "metadata": {},
   "outputs": [
    {
     "name": "stdout",
     "output_type": "stream",
     "text": [
      "{'name': 'Hridyanshu', 'year': 2, 'newKey': 'newValueAdded'}\n",
      "CSE\n"
     ]
    }
   ],
   "source": [
    "del dictVar['courses']\n",
    "branch=dictVar.pop('stream')\n",
    "print(dictVar)\n",
    "print(branch)"
   ]
  },
  {
   "cell_type": "markdown",
   "id": "da290e02",
   "metadata": {},
   "source": [
    "---\n",
    "### Some functions\n",
    "---\n",
    "\n",
    "    len(dictVar) #No. of keys in a dictionary\n",
    "    dictVar.keys() #Gives all the keys in a dictionary\n",
    "    dictVar.values() #All the values in dictionary\n",
    "    dictVar.items() #All the keys and values in a dictionary"
   ]
  },
  {
   "cell_type": "code",
   "execution_count": 36,
   "id": "02872c3a",
   "metadata": {},
   "outputs": [
    {
     "name": "stdout",
     "output_type": "stream",
     "text": [
      "3\n",
      "dict_keys(['name', 'year', 'newKey'])\n",
      "dict_values(['Hridyanshu', 2, 'newValueAdded'])\n",
      "dict_items([('name', 'Hridyanshu'), ('year', 2), ('newKey', 'newValueAdded')])\n"
     ]
    }
   ],
   "source": [
    "print(len(dictVar))\n",
    "print(dictVar.keys())\n",
    "print(dictVar.values())\n",
    "print(dictVar.items())"
   ]
  },
  {
   "cell_type": "markdown",
   "id": "6f89c027",
   "metadata": {},
   "source": [
    "---\n",
    "### Looping in dictionaries\n",
    "---\n",
    "\n",
    "    for var in dictVar: #Will only go through the keys\n",
    "        print(var)\n",
    "        \n",
    "    #items() returns two values which will be stored in the two variables\n",
    "    for key, value in dictVar.items():\n",
    "        print(key, value)"
   ]
  },
  {
   "cell_type": "code",
   "execution_count": 37,
   "id": "d5f21ad1",
   "metadata": {},
   "outputs": [
    {
     "name": "stdout",
     "output_type": "stream",
     "text": [
      "name\n",
      "year\n",
      "newKey\n",
      "\n",
      "name Hridyanshu\n",
      "year 2\n",
      "newKey newValueAdded\n"
     ]
    }
   ],
   "source": [
    "for var in dictVar:\n",
    "    print(var)\n",
    "print();\n",
    "for key, value in dictVar.items():\n",
    "    print(key, value)"
   ]
  },
  {
   "cell_type": "markdown",
   "id": "2d914986",
   "metadata": {},
   "source": [
    "---\n",
    "## Conditionals\n",
    "---\n",
    "\n",
    "    if statement:\n",
    "        code\n",
    "\n",
    "Conditional operators\n",
    "    \n",
    "    ==    >    >=    is\n",
    "    !=    <    <="
   ]
  },
  {
   "cell_type": "code",
   "execution_count": 38,
   "id": "3bbc68f7",
   "metadata": {},
   "outputs": [
    {
     "name": "stdout",
     "output_type": "stream",
     "text": [
      "C++\n"
     ]
    }
   ],
   "source": [
    "language='C++'\n",
    "\n",
    "if language == 'Python':\n",
    "    print(\"Python\")\n",
    "elif language == 'python':\n",
    "    print('python')\n",
    "else:\n",
    "    print('{}'.format(language))"
   ]
  },
  {
   "cell_type": "markdown",
   "id": "0590aa81",
   "metadata": {},
   "source": [
    "---\n",
    "### Boolean operations\n",
    "---\n",
    "\n",
    "    and    or    not\n",
    "\n",
    "    if condition1 and condition2:\n",
    "        code\n",
    "    elif condition2 or condition3:\n",
    "        code\n",
    "    else:\n",
    "        code"
   ]
  },
  {
   "cell_type": "code",
   "execution_count": 39,
   "id": "ea03c78d",
   "metadata": {},
   "outputs": [
    {
     "name": "stdout",
     "output_type": "stream",
     "text": [
      "c++\n",
      "Not logged in!\n"
     ]
    }
   ],
   "source": [
    "if language == 'Python' or language == 'python':\n",
    "    print(\"Python\")\n",
    "elif language=='C++':\n",
    "    print(\"c++\")\n",
    "else:\n",
    "    print({}.format(language))\n",
    "    \n",
    "loggedIn=False\n",
    "if not loggedIn:\n",
    "    print(\"Not logged in!\")\n",
    "else:\n",
    "    print(\"Logged in\")"
   ]
  },
  {
   "cell_type": "markdown",
   "id": "3ad3f00d",
   "metadata": {},
   "source": [
    "<b>is</b> operator\n",
    "\n",
    "If two variables are the same objects (same id), <b>True</b> is returned. Otherwise <b>False</b> is returned.\n",
    "\n",
    "    if a is b:\n",
    "        print(\"True\")\n",
    "    else:\n",
    "        print(\"False\")"
   ]
  },
  {
   "cell_type": "code",
   "execution_count": 40,
   "id": "c3b3e969",
   "metadata": {},
   "outputs": [
    {
     "name": "stdout",
     "output_type": "stream",
     "text": [
      "2797539168192\n",
      "2797539168128\n",
      "False\n",
      "2797539168192\n",
      "2797539168192\n",
      "True\n"
     ]
    }
   ],
   "source": [
    "a=[1,2,3]\n",
    "b=[1,2,3]\n",
    "\n",
    "print(id(a))\n",
    "print(id(b))\n",
    "if a is b:\n",
    "    print(a is b)\n",
    "else:\n",
    "    print(a is b)\n",
    "\n",
    "b=a\n",
    "print(id(a))\n",
    "print(id(b))\n",
    "\n",
    "if a is b:\n",
    "    print(a is b)\n",
    "else:\n",
    "    print(a is b)"
   ]
  },
  {
   "cell_type": "markdown",
   "id": "15c78279",
   "metadata": {},
   "source": [
    "### Note\n",
    "\n",
    "empty sequences are evaluated as false\n",
    "\n",
    "    {} '' () [] evaluated as false"
   ]
  },
  {
   "cell_type": "markdown",
   "id": "9adaf785",
   "metadata": {},
   "source": [
    "---\n",
    "## Iterations\n",
    "---\n",
    "\n",
    "### break, continue\n",
    "\n",
    "    nums=[1,2,3,4,5]\n",
    "    for num in nums:\n",
    "        if num==3:\n",
    "            break\n",
    "        elif num==2:\n",
    "            continue\n",
    "        else:\n",
    "            print(num)"
   ]
  },
  {
   "cell_type": "code",
   "execution_count": 41,
   "id": "2581e451",
   "metadata": {},
   "outputs": [
    {
     "name": "stdout",
     "output_type": "stream",
     "text": [
      "1\n"
     ]
    }
   ],
   "source": [
    "nums=[1,2,3,4,5]\n",
    "for num in nums:\n",
    "    if num==3:\n",
    "        break\n",
    "    elif num==2:\n",
    "        continue\n",
    "    else:\n",
    "        print(num)"
   ]
  },
  {
   "cell_type": "code",
   "execution_count": 42,
   "id": "bfd63b7c",
   "metadata": {},
   "outputs": [
    {
     "name": "stdout",
     "output_type": "stream",
     "text": [
      "0\n",
      "1\n",
      "2\n",
      "3\n",
      "4\n",
      "5\n",
      "6\n",
      "7\n",
      "8\n",
      "9\n"
     ]
    }
   ],
   "source": [
    "for i in range(10): #prints from 0 to 9\n",
    "    print(i)"
   ]
  },
  {
   "cell_type": "code",
   "execution_count": 43,
   "id": "50bd153b",
   "metadata": {},
   "outputs": [
    {
     "name": "stdout",
     "output_type": "stream",
     "text": [
      "1\n",
      "2\n",
      "3\n",
      "4\n",
      "5\n"
     ]
    }
   ],
   "source": [
    "for i in range(1,6): #prints from 1 to 5\n",
    "    print(i)"
   ]
  },
  {
   "cell_type": "code",
   "execution_count": null,
   "id": "b1d11774",
   "metadata": {},
   "outputs": [],
   "source": []
  }
 ],
 "metadata": {
  "kernelspec": {
   "display_name": "Python 3",
   "language": "python",
   "name": "python3"
  },
  "language_info": {
   "codemirror_mode": {
    "name": "ipython",
    "version": 3
   },
   "file_extension": ".py",
   "mimetype": "text/x-python",
   "name": "python",
   "nbconvert_exporter": "python",
   "pygments_lexer": "ipython3",
   "version": "3.8.8"
  }
 },
 "nbformat": 4,
 "nbformat_minor": 5
}
